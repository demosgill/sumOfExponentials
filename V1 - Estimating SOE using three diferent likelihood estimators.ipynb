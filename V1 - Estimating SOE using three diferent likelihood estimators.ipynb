{
 "cells": [
  {
   "cell_type": "markdown",
   "metadata": {},
   "source": [
    "# Package: \n",
    "Git: https://github.com/demosgill/sumOfExponentials\n",
    "\n",
    "import sumOfExponentials.soe_clean as soec"
   ]
  },
  {
   "cell_type": "code",
   "execution_count": 1,
   "metadata": {
    "collapsed": false
   },
   "outputs": [
    {
     "ename": "ImportError",
     "evalue": "cannot import name HTML4",
     "output_type": "error",
     "traceback": [
      "\u001b[0;31m---------------------------------------------------------------------------\u001b[0m",
      "\u001b[0;31mImportError\u001b[0m                               Traceback (most recent call last)",
      "\u001b[0;32m<ipython-input-1-8464a55faf4f>\u001b[0m in \u001b[0;36m<module>\u001b[0;34m()\u001b[0m\n\u001b[0;32m----> 1\u001b[0;31m \u001b[0;32mfrom\u001b[0m \u001b[0mIPython\u001b[0m\u001b[0;34m.\u001b[0m\u001b[0mcore\u001b[0m\u001b[0;34m.\u001b[0m\u001b[0mdisplay\u001b[0m \u001b[0;32mimport\u001b[0m \u001b[0mHTML4\u001b[0m\u001b[0;34m\u001b[0m\u001b[0m\n\u001b[0m\u001b[1;32m      2\u001b[0m \u001b[0mHTML\u001b[0m\u001b[0;34m(\u001b[0m\u001b[0;34m'<a href=\"https://imgflip.com/gif/1cytzj\"><img src=\"https://i.imgflip.com/1cytzj.gif\" title=\"made at imgflip.com\"/></a>'\u001b[0m\u001b[0;34m)\u001b[0m\u001b[0;34m\u001b[0m\u001b[0m\n",
      "\u001b[0;31mImportError\u001b[0m: cannot import name HTML4"
     ]
    }
   ],
   "source": [
    "from IPython.core.display import HTML4\n",
    "HTML('<a href=\"https://imgflip.com/gif/1cytzj\"><img src=\"https://i.imgflip.com/1cytzj.gif\" title=\"made at imgflip.com\"/></a>')"
   ]
  },
  {
   "cell_type": "code",
   "execution_count": 20,
   "metadata": {
    "collapsed": false
   },
   "outputs": [
    {
     "name": "stderr",
     "output_type": "stream",
     "text": [
      "/Users/demos/anaconda/lib/python2.7/site-packages/pandas/io/data.py:35: FutureWarning: \n",
      "The pandas.io.data module is moved to a separate package (pandas-datareader) and will be removed from pandas in a future version.\n",
      "After installing the pandas-datareader package (https://github.com/pydata/pandas-datareader), you can change the import ``from pandas.io import data, wb`` to ``from pandas_datareader import data, wb``.\n",
      "  FutureWarning)\n"
     ]
    },
    {
     "name": "stdout",
     "output_type": "stream",
     "text": [
      "Populating the interactive namespace from numpy and matplotlib\n"
     ]
    }
   ],
   "source": [
    "import soe_clean as soec\n",
    "import soe_gamma2 as soec2\n",
    "import soe_gamma3 as soec3\n",
    "\n",
    "import numpy as np\n",
    "import matplotlib.pyplot as plt\n",
    "import pandas as pd\n",
    "\n",
    "%matplotlib inline\n",
    "%pylab inline\n",
    "import itertools as itertools\n",
    "from scipy.optimize import minimize"
   ]
  },
  {
   "cell_type": "markdown",
   "metadata": {},
   "source": [
    "# Start\n",
    "    \n",
    " The model reads:\n",
    " $Y_t = A exp^{(-\\gamma_1 t)} + B exp^{(-\\gamma_2 t)} + C exp^{(-\\gamma_3 t)} \\label{one}$\n",
    " \n",
    " Enslaving the linear parameters unto the non-linears one yield the following optimisation problem:\n",
    " \n",
    " $(\\hat{\\gamma_1}, \\hat{\\gamma_2}, \\hat{\\gamma_3}) = arg. max._{A,B,C} L(\\gamma_1, \\gamma_2, \\gamma_3)$ \n",
    " \n",
    " The linear parameters are in turn obtained by solving the following set of linear equations:\n",
    "\n",
    "$\n",
    "\\begin{equation}\n",
    "  \\left(\\begin{array}{ccc}\n",
    "    \\sum f_i^2 & \\sum f_i g_i & \\sum f_i h_i \\\\\n",
    "     \\sum f_i g_i & \\sum g_i^2 & \\sum g_i h_i \\\\\n",
    "    \\sum f_i h_i &  \\sum g_i h_i  & \\sum h_i^2 \\\\\n",
    "  \\end{array}\\right)\\left(\\begin{array}{c}\n",
    "    \\hat A\\\\ \\hat B\\\\ \\hat C  \n",
    "  \\end{array}\\right)=\n",
    "  \\left(\\begin{array}{c} \n",
    "    \\sum y_if_i \\\\ \\sum y_ig_i \\\\ \\sum y_ih_i \\\\ \n",
    "  \\end{array}\\right)\n",
    "\\end{equation}\n",
    "$\n",
    "\n",
    "where: $f_i = exp^{(-\\gamma_1 t)}$, $g_i = exp^{(-\\gamma_2 t)}$, $h_i = exp^{(-\\gamma_3 t)}$."
   ]
  },
  {
   "cell_type": "markdown",
   "metadata": {},
   "source": [
    "# Estimation procedure:\n",
    "    Grid search:\n",
    "        - 5 Random starting points for NL-parameters from [0.01 : 1.]  \n",
    "        \n",
    "        - 'Nelder-Mead' Simplex algorithm\n",
    "    \n",
    "# Synthetic data used:\n",
    "    Input parameters are: [A=.2, B=.3, C=.4, g1=.3, g2=.15, g3 = .075]\n",
    "\n",
    "    Sample size is defined by N; (N=25 for initial examples)\n",
    "\n",
    "    We add gaussian noise $\\sim (\\mu, 0.01)$"
   ]
  },
  {
   "cell_type": "code",
   "execution_count": 24,
   "metadata": {
    "collapsed": false
   },
   "outputs": [],
   "source": [
    "# {pormenores estimation}\n",
    "soec = reload(soec)\n",
    "pars = np.array([.2, .3, .4, .3, .15, .075])\n",
    "sampleSize = 25\n",
    "\n",
    "# Simulate\n",
    "sData = soec.simulate2(pars, sampleSize)\n",
    "\n",
    "# Estimate QML\n",
    "ParsQml, _, _ = soec.fitBest(sData)"
   ]
  },
  {
   "cell_type": "code",
   "execution_count": 110,
   "metadata": {
    "collapsed": false
   },
   "outputs": [
    {
     "data": {
      "image/png": "[encoded data removed]",
      "text/plain": [
       "<matplotlib.figure.Figure at 0x11d7b4e50>"
      ]
     },
     "metadata": {},
     "output_type": "display_data"
    }
   ],
   "source": [
    "f, ax = plt.subplots(1,1,figsize=(7,4))\n",
    "plt.plot(sData, marker='o', linestyle='', markersize=15, color='r')\n",
    "sDa = soec.simulate2(ParsQml, sampleSize, noise=False)\n",
    "plt.plot(sDa, color='k', linewidth=5)\n",
    "plt.ylabel('$Y$', fontsize=20)\n",
    "plt.xlabel('$t$', fontsize=20)\n",
    "plt.legend([r'$Syn.Data$',r'$Fit$'], fontsize=18)\n",
    "plt.grid()\n",
    "plt.tight_layout()"
   ]
  },
  {
   "cell_type": "markdown",
   "metadata": {},
   "source": [
    "# Profiling $\\gamma_1$"
   ]
  },
  {
   "cell_type": "code",
   "execution_count": 37,
   "metadata": {
    "collapsed": false
   },
   "outputs": [],
   "source": [
    "# Estimate profile likelihood \n",
    "soec = reload(soec)\n",
    "lpDf, lpHat, sGammaLp = soec.profilingGammaOne(sData)"
   ]
  },
  {
   "cell_type": "code",
   "execution_count": 107,
   "metadata": {
    "collapsed": false
   },
   "outputs": [
    {
     "data": {
      "image/png": "[encoded data removed]",
      "text/plain": [
       "<matplotlib.figure.Figure at 0x11d071490>"
      ]
     },
     "metadata": {},
     "output_type": "display_data"
    }
   ],
   "source": [
    "# plot\n",
    "f, ax = plt.subplots(1,1,figsize=(7,4))\n",
    "lpDf.plot(ax=ax, linewidth=6, color='k')\n",
    "\n",
    "# True\n",
    "plt.axvline(pars[3],linewidth=4, color='r')\n",
    "plt.axvline(pars[4],linewidth=4, color='k')\n",
    "plt.axvline(pars[5],linewidth=4, color='g')\n",
    "\n",
    "# Estimated\n",
    "plt.axvline(lpHat[3],linewidth=4, color='r', linestyle='--')\n",
    "plt.axvline(lpHat[4],linewidth=4, color='g', linestyle='--')\n",
    "\n",
    "# Legend\n",
    "plt.legend([r'$L_p(\\gamma_1|\\hat{\\eta})$','$\\gamma_1$', '$\\gamma_2$',\n",
    "            '$\\gamma_3$',r'$\\hat{\\gamma_1}$',r'$\\hat{\\gamma_3}$'], fontsize=15)\n",
    "plt.xlabel(r'$\\gamma_1$', fontsize=20)\n",
    "plt.ylabel('$L_p(\\gamma_1|\\hat{\\eta})$', fontsize=20)\n",
    "plt.grid()\n",
    "plt.tight_layout()"
   ]
  },
  {
   "cell_type": "markdown",
   "metadata": {},
   "source": [
    "# True parameters are:\n",
    "    A, B, C, g1, g2, g3 = [ 0.2    0.3    0.4    0.3    0.15   0.075]\n",
    "    \n",
    "# Estimated parameters are:\n",
    "    A, B, C, g1, g2, g3 = [0.36, 0.55, 0.00, 0.28, 0.08, -0.19]"
   ]
  },
  {
   "cell_type": "markdown",
   "metadata": {},
   "source": [
    "# Understanding this Phenomena:\n",
    "Only the first two terms are estimated, i.e. only these terms matter for fitting the data (A,B,g1,g2):\n",
    "\n",
    "$Y_t = A exp(\\gamma_1 t) + B exp(\\gamma_2 t)$, \n",
    "\n",
    "since C = 0 and thus g3 is unimportant.\n",
    "        "
   ]
  },
  {
   "cell_type": "markdown",
   "metadata": {},
   "source": [
    "# Modified Profile Likelihood $\\gamma_1$"
   ]
  },
  {
   "cell_type": "code",
   "execution_count": 112,
   "metadata": {
    "collapsed": false
   },
   "outputs": [],
   "source": [
    "# Get hessian and Jacobian\n",
    "H, J = soec.hessianForGivenGammaOne(pars, sData, 0.1)"
   ]
  },
  {
   "cell_type": "markdown",
   "metadata": {},
   "source": [
    "# H has a super small determinant:\n",
    "$\\rightarrow$ ill-conditioned"
   ]
  },
  {
   "cell_type": "code",
   "execution_count": 113,
   "metadata": {
    "collapsed": false
   },
   "outputs": [
    {
     "data": {
      "text/plain": [
       "2.2700848558949395e-154"
      ]
     },
     "execution_count": 113,
     "metadata": {},
     "output_type": "execute_result"
    }
   ],
   "source": [
    "# Calculate the determinant\n",
    "np.linalg.det(H)"
   ]
  },
  {
   "cell_type": "markdown",
   "metadata": {},
   "source": [
    "# Checking the structure of the reduced Hessian and $\\lambda$"
   ]
  },
  {
   "cell_type": "code",
   "execution_count": 125,
   "metadata": {
    "collapsed": false
   },
   "outputs": [
    {
     "data": {
      "text/html": [
       "<div>\n",
       "<table border=\"1\" class=\"dataframe\">\n",
       "  <thead>\n",
       "    <tr style=\"text-align: right;\">\n",
       "      <th></th>\n",
       "      <th>A</th>\n",
       "      <th>B</th>\n",
       "      <th>C</th>\n",
       "      <th>g2</th>\n",
       "      <th>g3</th>\n",
       "    </tr>\n",
       "  </thead>\n",
       "  <tbody>\n",
       "    <tr>\n",
       "      <th>A</th>\n",
       "      <td>1.095897e+01</td>\n",
       "      <td>-9.805658e-14</td>\n",
       "      <td>-7.645963e-14</td>\n",
       "      <td>-1.840740e-13</td>\n",
       "      <td>-3.557288e-13</td>\n",
       "    </tr>\n",
       "    <tr>\n",
       "      <th>B</th>\n",
       "      <td>-9.805658e-14</td>\n",
       "      <td>0.000000e+00</td>\n",
       "      <td>0.000000e+00</td>\n",
       "      <td>0.000000e+00</td>\n",
       "      <td>0.000000e+00</td>\n",
       "    </tr>\n",
       "    <tr>\n",
       "      <th>C</th>\n",
       "      <td>-7.645963e-14</td>\n",
       "      <td>0.000000e+00</td>\n",
       "      <td>0.000000e+00</td>\n",
       "      <td>0.000000e+00</td>\n",
       "      <td>0.000000e+00</td>\n",
       "    </tr>\n",
       "    <tr>\n",
       "      <th>g2</th>\n",
       "      <td>-1.840740e-13</td>\n",
       "      <td>0.000000e+00</td>\n",
       "      <td>0.000000e+00</td>\n",
       "      <td>0.000000e+00</td>\n",
       "      <td>0.000000e+00</td>\n",
       "    </tr>\n",
       "    <tr>\n",
       "      <th>g3</th>\n",
       "      <td>-3.557288e-13</td>\n",
       "      <td>0.000000e+00</td>\n",
       "      <td>0.000000e+00</td>\n",
       "      <td>0.000000e+00</td>\n",
       "      <td>0.000000e+00</td>\n",
       "    </tr>\n",
       "  </tbody>\n",
       "</table>\n",
       "</div>"
      ],
      "text/plain": [
       "               A             B             C            g2            g3\n",
       "A   1.095897e+01 -9.805658e-14 -7.645963e-14 -1.840740e-13 -3.557288e-13\n",
       "B  -9.805658e-14  0.000000e+00  0.000000e+00  0.000000e+00  0.000000e+00\n",
       "C  -7.645963e-14  0.000000e+00  0.000000e+00  0.000000e+00  0.000000e+00\n",
       "g2 -1.840740e-13  0.000000e+00  0.000000e+00  0.000000e+00  0.000000e+00\n",
       "g3 -3.557288e-13  0.000000e+00  0.000000e+00  0.000000e+00  0.000000e+00"
      ]
     },
     "execution_count": 125,
     "metadata": {},
     "output_type": "execute_result"
    }
   ],
   "source": [
    "# Hessian\n",
    "pd.DataFrame(H,columns=['A','B','C','g2','g3'],\n",
    "            index=['A','B','C','g2','g3'])"
   ]
  },
  {
   "cell_type": "code",
   "execution_count": 122,
   "metadata": {
    "collapsed": false
   },
   "outputs": [
    {
     "data": {
      "text/html": [
       "<div>\n",
       "<table border=\"1\" class=\"dataframe\">\n",
       "  <thead>\n",
       "    <tr style=\"text-align: right;\">\n",
       "      <th></th>\n",
       "      <th>A</th>\n",
       "      <th>B</th>\n",
       "      <th>C</th>\n",
       "      <th>g2</th>\n",
       "      <th>g3</th>\n",
       "    </tr>\n",
       "  </thead>\n",
       "  <tbody>\n",
       "    <tr>\n",
       "      <th>1.095897e+01</th>\n",
       "      <td>1.000000e+00</td>\n",
       "      <td>-3.826905e-14</td>\n",
       "      <td>-7.473183e-48</td>\n",
       "      <td>3.387211e-47</td>\n",
       "      <td>-9.893765e-51</td>\n",
       "    </tr>\n",
       "    <tr>\n",
       "      <th>-1.604963e-26</th>\n",
       "      <td>-8.947610e-15</td>\n",
       "      <td>-2.338080e-01</td>\n",
       "      <td>-1.823118e-01</td>\n",
       "      <td>-4.389097e-01</td>\n",
       "      <td>-8.482067e-01</td>\n",
       "    </tr>\n",
       "    <tr>\n",
       "      <th>0.000000e+00</th>\n",
       "      <td>-6.976900e-15</td>\n",
       "      <td>-1.823118e-01</td>\n",
       "      <td>9.730610e-01</td>\n",
       "      <td>-6.485484e-02</td>\n",
       "      <td>-1.253340e-01</td>\n",
       "    </tr>\n",
       "    <tr>\n",
       "      <th>0.000000e+00</th>\n",
       "      <td>-1.679665e-14</td>\n",
       "      <td>-4.389097e-01</td>\n",
       "      <td>-6.485484e-02</td>\n",
       "      <td>8.438641e-01</td>\n",
       "      <td>-3.017375e-01</td>\n",
       "    </tr>\n",
       "    <tr>\n",
       "      <th>0.000000e+00</th>\n",
       "      <td>-3.246006e-14</td>\n",
       "      <td>-8.482067e-01</td>\n",
       "      <td>-1.253340e-01</td>\n",
       "      <td>-3.017375e-01</td>\n",
       "      <td>4.168829e-01</td>\n",
       "    </tr>\n",
       "  </tbody>\n",
       "</table>\n",
       "</div>"
      ],
      "text/plain": [
       "                          A             B             C            g2  \\\n",
       " 1.095897e+01  1.000000e+00 -3.826905e-14 -7.473183e-48  3.387211e-47   \n",
       "-1.604963e-26 -8.947610e-15 -2.338080e-01 -1.823118e-01 -4.389097e-01   \n",
       " 0.000000e+00 -6.976900e-15 -1.823118e-01  9.730610e-01 -6.485484e-02   \n",
       " 0.000000e+00 -1.679665e-14 -4.389097e-01 -6.485484e-02  8.438641e-01   \n",
       " 0.000000e+00 -3.246006e-14 -8.482067e-01 -1.253340e-01 -3.017375e-01   \n",
       "\n",
       "                         g3  \n",
       " 1.095897e+01 -9.893765e-51  \n",
       "-1.604963e-26 -8.482067e-01  \n",
       " 0.000000e+00 -1.253340e-01  \n",
       " 0.000000e+00 -3.017375e-01  \n",
       " 0.000000e+00  4.168829e-01  "
      ]
     },
     "execution_count": 122,
     "metadata": {},
     "output_type": "execute_result"
    }
   ],
   "source": [
    "# Eigenvalues and Eigenvectors\n",
    "evals, evecs = np.linalg.eig(H)\n",
    "pd.DataFrame(evecs, index=evals, columns=['A','B','C','g2','g3'])"
   ]
  },
  {
   "cell_type": "markdown",
   "metadata": {},
   "source": [
    "# Modified Profile:\n",
    "    - Profiling from: 0.001 to 1. using 25 points"
   ]
  },
  {
   "cell_type": "code",
   "execution_count": 10,
   "metadata": {
    "collapsed": false
   },
   "outputs": [
    {
     "name": "stdout",
     "output_type": "stream",
     "text": [
      "CPU times: user 3min 36s, sys: 719 ms, total: 3min 36s\n",
      "Wall time: 26min 43s\n"
     ]
    }
   ],
   "source": [
    "# preliminares\n",
    "soec = reload(soec)\n",
    "pars = np.array([.2, .3, .4, .3, .15, .075])\n",
    "sampleSize = 20\n",
    "\n",
    "# Simulate\n",
    "sData = soec.simulate2(pars, sampleSize)\n",
    "\n",
    "# Esimate Lp and Lmp\n",
    "%time lpDf, mplDf, lpHat, lmpHat = soec.LpAndMlpOptimising(sData)"
   ]
  },
  {
   "cell_type": "markdown",
   "metadata": {},
   "source": [
    "# Explain the metric used for comparing estimatores"
   ]
  },
  {
   "cell_type": "markdown",
   "metadata": {},
   "source": [
    "## N = 5"
   ]
  },
  {
   "cell_type": "code",
   "execution_count": 5,
   "metadata": {
    "collapsed": false
   },
   "outputs": [
    {
     "data": {
      "image/png": "[encoded data removed]",
      "text/plain": [
       "<matplotlib.figure.Figure at 0x106ed09d0>"
      ]
     },
     "metadata": {},
     "output_type": "display_data"
    }
   ],
   "source": [
    "soec.compareLpAndLmp(lpDf, mplDf, lpHat, lmpHat, pars)"
   ]
  },
  {
   "cell_type": "markdown",
   "metadata": {},
   "source": [
    "## N = 15"
   ]
  },
  {
   "cell_type": "code",
   "execution_count": 9,
   "metadata": {
    "collapsed": false
   },
   "outputs": [
    {
     "data": {
      "image/png": "[encoded data removed]",
      "text/plain": [
       "<matplotlib.figure.Figure at 0x11409fe10>"
      ]
     },
     "metadata": {},
     "output_type": "display_data"
    }
   ],
   "source": [
    "soec.compareLpAndLmp(lpDf, mplDf, lpHat, lmpHat, pars)"
   ]
  },
  {
   "cell_type": "markdown",
   "metadata": {},
   "source": [
    "## N = 20"
   ]
  },
  {
   "cell_type": "code",
   "execution_count": 11,
   "metadata": {
    "collapsed": false
   },
   "outputs": [
    {
     "data": {
      "image/png": "[encoded data removed]",
      "text/plain": [
       "<matplotlib.figure.Figure at 0x113b0f850>"
      ]
     },
     "metadata": {},
     "output_type": "display_data"
    }
   ],
   "source": [
    "soec.compareLpAndLmp(lpDf, mplDf, lpHat, lmpHat, pars)"
   ]
  },
  {
   "cell_type": "markdown",
   "metadata": {},
   "source": [
    "## N = 25"
   ]
  },
  {
   "cell_type": "code",
   "execution_count": 71,
   "metadata": {
    "collapsed": false
   },
   "outputs": [
    {
     "data": {
      "image/png": "[encoded data removed]",
      "text/plain": [
       "<matplotlib.figure.Figure at 0x11947bfd0>"
      ]
     },
     "metadata": {},
     "output_type": "display_data"
    }
   ],
   "source": [
    "soec = reload(soec)\n",
    "soec.compareLpAndLmp(lpDf, mplDf, lpHat, lmpHat, pars)"
   ]
  },
  {
   "cell_type": "code",
   "execution_count": 72,
   "metadata": {
    "collapsed": false
   },
   "outputs": [
    {
     "data": {
      "text/plain": [
       "array([ 0.2  ,  0.3  ,  0.4  ,  0.3  ,  0.15 ,  0.075])"
      ]
     },
     "execution_count": 72,
     "metadata": {},
     "output_type": "execute_result"
    }
   ],
   "source": [
    "pars"
   ]
  },
  {
   "cell_type": "markdown",
   "metadata": {},
   "source": [
    "# Example of the cost function used on the MC simulation study to compare performance of distinct estimators: \n",
    "- 1 singe realization for a single fixed sample size"
   ]
  },
  {
   "cell_type": "code",
   "execution_count": 6,
   "metadata": {
    "collapsed": false
   },
   "outputs": [],
   "source": [
    "import brutusRun as br\n",
    "br = reload(br)\n",
    "pars = np.array([.2, .3, .4, .3, .15, .075])\n",
    "sampleSize = 15\n",
    "MC = 1\n",
    "C1, C2, C3 = br.simulateAndEstimateViaAllEstimators(pars, sampleSize, MC)"
   ]
  },
  {
   "cell_type": "code",
   "execution_count": 7,
   "metadata": {
    "collapsed": false
   },
   "outputs": [
    {
     "data": {
      "text/html": [
       "<div>\n",
       "<table border=\"1\" class=\"dataframe\">\n",
       "  <thead>\n",
       "    <tr style=\"text-align: right;\">\n",
       "      <th></th>\n",
       "      <th>15</th>\n",
       "    </tr>\n",
       "  </thead>\n",
       "  <tbody>\n",
       "    <tr>\n",
       "      <th>0</th>\n",
       "      <td>1.420829</td>\n",
       "    </tr>\n",
       "  </tbody>\n",
       "</table>\n",
       "</div>"
      ],
      "text/plain": [
       "         15\n",
       "0  1.420829"
      ]
     },
     "execution_count": 7,
     "metadata": {},
     "output_type": "execute_result"
    }
   ],
   "source": [
    "C1"
   ]
  },
  {
   "cell_type": "code",
   "execution_count": 8,
   "metadata": {
    "collapsed": false
   },
   "outputs": [
    {
     "data": {
      "text/html": [
       "<div>\n",
       "<table border=\"1\" class=\"dataframe\">\n",
       "  <thead>\n",
       "    <tr style=\"text-align: right;\">\n",
       "      <th></th>\n",
       "      <th>15</th>\n",
       "    </tr>\n",
       "  </thead>\n",
       "  <tbody>\n",
       "    <tr>\n",
       "      <th>0</th>\n",
       "      <td>1.404796</td>\n",
       "    </tr>\n",
       "  </tbody>\n",
       "</table>\n",
       "</div>"
      ],
      "text/plain": [
       "         15\n",
       "0  1.404796"
      ]
     },
     "execution_count": 8,
     "metadata": {},
     "output_type": "execute_result"
    }
   ],
   "source": [
    "C2"
   ]
  },
  {
   "cell_type": "code",
   "execution_count": 9,
   "metadata": {
    "collapsed": false
   },
   "outputs": [
    {
     "data": {
      "text/html": [
       "<div>\n",
       "<table border=\"1\" class=\"dataframe\">\n",
       "  <thead>\n",
       "    <tr style=\"text-align: right;\">\n",
       "      <th></th>\n",
       "      <th>15</th>\n",
       "    </tr>\n",
       "  </thead>\n",
       "  <tbody>\n",
       "    <tr>\n",
       "      <th>0</th>\n",
       "      <td>1.404796</td>\n",
       "    </tr>\n",
       "  </tbody>\n",
       "</table>\n",
       "</div>"
      ],
      "text/plain": [
       "         15\n",
       "0  1.404796"
      ]
     },
     "execution_count": 9,
     "metadata": {},
     "output_type": "execute_result"
    }
   ],
   "source": [
    "C3"
   ]
  },
  {
   "cell_type": "markdown",
   "metadata": {},
   "source": [
    "# Example of the cost function used on the MC simulation study to compare performance of distinct estimators: \n",
    "- 100 realizations per sample size. Sample size = 73 sub-samples $\\in [5, 70]$"
   ]
  },
  {
   "cell_type": "code",
   "execution_count": 246,
   "metadata": {
    "collapsed": false
   },
   "outputs": [],
   "source": [
    "path = '/Users/demos/bigdata/resultsMonteCarloSoe/'\n",
    "fold = ['lp/','qml/','mpl/']\n",
    "soec = reload(soec)\n",
    "\n",
    "# Getting data\n",
    "reLp  = soec.fsl.get_all_files_from_a_folder(path+fold[0])\n",
    "reQml = soec.fsl.get_all_files_from_a_folder(path+fold[1])\n",
    "reMpl = soec.fsl.get_all_files_from_a_folder(path+fold[2])\n",
    "\n",
    "# Removing outliers ??\n",
    "reLp  = reLp[reLp < 10**44.].T\n",
    "reMpl = reMpl[reMpl < 10**44.].T\n",
    "reQml = reQml[reQml < 10**44.].T\n",
    "\n",
    "# sorting index\n",
    "reLp.index  = reLp.index.astype(int)\n",
    "reLp = reLp.sort_index(ascending=True)\n",
    "\n",
    "reMpl.index = reMpl.index.astype(int)\n",
    "reMpl = reMpl.sort_index(ascending=True)\n",
    "\n",
    "reQml.index = reQml.index.astype(int)\n",
    "reQml = reQml.sort_index(ascending=True)"
   ]
  },
  {
   "cell_type": "markdown",
   "metadata": {},
   "source": [
    "## Visualizing results"
   ]
  },
  {
   "cell_type": "code",
   "execution_count": 250,
   "metadata": {
    "collapsed": false
   },
   "outputs": [
    {
     "data": {
      "image/png": "[encoded data removed]",
      "text/plain": [
       "<matplotlib.figure.Figure at 0x13c9c4610>"
      ]
     },
     "metadata": {},
     "output_type": "display_data"
    }
   ],
   "source": [
    "lw = 4\n",
    "\n",
    "\n",
    "stdQml = reQml.std(axis=1)\n",
    "stdMpl = reMpl.std(axis=1)\n",
    "\n",
    "f,ax = plt.subplots(1,1,figsize=(8,4))\n",
    "np.sqrt(reLp.mean(axis=1)).plot(linewidth=lw, color='k')\n",
    "np.sqrt(stdLp).plot(linewidth=lw, linestyle='--', color='k')\n",
    "\n",
    "np.sqrt(reMpl.mean(axis=1)).plot(linewidth=lw, color='r')\n",
    "np.sqrt(stdMpl).plot(linewidth=lw, linestyle='--', color='r')\n",
    "\n",
    "np.sqrt(reQml.mean(axis=1)).plot(linewidth=lw, color='b')\n",
    "np.sqrt(stdQml).plot(linewidth=lw, linestyle='--', color='b')\n",
    "\n",
    "ax.legend(['Lp','Lpstd','Mpl','Mplstd','Qml','Qmlstd'])\n",
    "\n",
    "plt.ylabel(r'$\\sqrt{\\chi^2}$',fontsize=22)\n",
    "plt.grid()\n",
    "plt.tight_layout()"
   ]
  },
  {
   "cell_type": "markdown",
   "metadata": {},
   "source": [
    "# Ive ran new simulations. Compile results asap"
   ]
  },
  {
   "cell_type": "markdown",
   "metadata": {},
   "source": [
    "# ETAS model"
   ]
  },
  {
   "cell_type": "markdown",
   "metadata": {},
   "source": [
    "# \n",
    "\n",
    "The ETAS model is a special case of the marked Hawkes-type self-exciting process and has the following specific expression for conditional intensity:\n",
    "\n",
    "$\\lambda_\\theta(t|H_t)= \\mu + \\sum_{i:S<t_i<t}\\frac{K_0 e^{\\alpha(M_i - M_z)}}{(t-t_i+c)^p}$\n",
    "\n",
    "where:\n",
    "\n",
    "$S$ is the stating time of earthquake observation;\n",
    "\n",
    "$M_z$ represents the smallest magnitude of earthquakes to be treated in the data set. \n",
    "\n",
    "$M_i$ and $t_i$ represent the magnitude and the occurrence time of the $i$-th earthquake, respectively and\n",
    "\n",
    "$H_t$ := occurrence series of the set ($t_i, M_i$) before time t. \n",
    "\n",
    "The parameter set $\\theta$ thus consists of $(\\mu, K_0, c, \\alpha, p)$."
   ]
  },
  {
   "cell_type": "code",
   "execution_count": 335,
   "metadata": {
    "collapsed": false
   },
   "outputs": [
    {
     "name": "stdout",
     "output_type": "stream",
     "text": [
      "(269.7677297690497, '\\t', 2.7192738539212886)\n",
      "(141.58033241847411, '\\t', 3.727408630565105)\n",
      "(812.9505362731026, '\\t', 2.9206077777653094)\n",
      "(775.7374357345387, '\\t', 2.5003234944603605)\n",
      "(483.30010245003564, '\\t', 2.8775993908590145)\n",
      "(117.59242200589115, '\\t', 3.1291445547939745)\n",
      "(376.8307093241187, '\\t', 2.6476232211746287)\n",
      "(359.22093330762215, '\\t', 2.5567391038133302)\n",
      "(283.0630246447132, '\\t', 2.8955624784697873)\n",
      "(628.5670862371237, '\\t', 2.93420291963479)\n",
      "(713.3544569869015, '\\t', 2.549742486429137)\n",
      "(800.187182938037, '\\t', 2.538052893569896)\n",
      "(489.31454841574197, '\\t', 2.8149336341011892)\n",
      "(728.931356624796, '\\t', 3.554859566140361)\n",
      "(155.44290237414504, '\\t', 2.510624371664292)\n",
      "(914.8039950924513, '\\t', 2.984772213344096)\n",
      "(948.2129755398428, '\\t', 2.856901226362313)\n",
      "(656.5808471403772, '\\t', 2.5865676292880537)\n",
      "(901.1802936734153, '\\t', 3.346521643059787)\n",
      "(961.708124762586, '\\t', 3.505837024766089)\n",
      "(214.15471723543044, '\\t', 2.5983628795330653)\n",
      "(737.8889045243297, '\\t', 2.6326509891144654)\n",
      "(324.83565043371686, '\\t', 2.983915792682602)\n",
      "(26.234251585581568, '\\t', 3.146024689743516)\n",
      "(589.2455842138706, '\\t', 2.5820959515999022)\n",
      "(705.8815162145063, '\\t', 2.6187122797621423)\n",
      "(404.2716015306536, '\\t', 2.914675994881884)\n",
      "(548.8918837290961, '\\t', 2.8136366975129916)\n",
      "(123.82377932065769, '\\t', 2.8022359797772642)\n",
      "(932.5111266989722, '\\t', 2.686266587572839)\n",
      "(699.9327277750237, '\\t', 3.418474267000067)\n",
      "(735.1335902294998, '\\t', 2.583215238665908)\n",
      "(152.53518758138208, '\\t', 2.570573510089023)\n",
      "(807.2387482219622, '\\t', 2.567144931203923)\n",
      "(517.8383505947302, '\\t', 2.7722247906343815)\n",
      "(205.2993901535731, '\\t', 2.680148958101223)\n",
      "(847.3276562805308, '\\t', 2.53036550015948)\n",
      "(281.04406046171937, '\\t', 2.7903379343656685)\n",
      "(177.69696558699556, '\\t', 2.522348522088406)\n",
      "(598.7776257812612, '\\t', 3.1786328708175033)\n",
      "(38.79890659662366, '\\t', 2.5905389689788945)\n",
      "(459.34339544231716, '\\t', 2.7315402712168795)\n",
      "(377.25999383111895, '\\t', 2.803648658065702)\n",
      "(276.4663512409318, '\\t', 2.5596075264643634)\n",
      "(66.39771020621, '\\t', 3.0041640062292334)\n",
      "(113.55301092098058, '\\t', 2.661894276007723)\n",
      "(638.1367680668508, '\\t', 2.636626145195548)\n",
      "(929.0295957964506, '\\t', 2.85474481205775)\n",
      "(727.8669071872292, '\\t', 3.9558377342284103)\n",
      "(673.4914422477385, '\\t', 2.5940623345370994)\n",
      "(604.910218875831, '\\t', 3.06006819689668)\n",
      "(735.0149288572042, '\\t', 2.7986909187562734)\n",
      "(726.4461004925249, '\\t', 3.088194086359914)\n",
      "(186.89663910087785, '\\t', 3.1857104655993833)\n",
      "(111.71398927955633, '\\t', 2.511440240387928)\n",
      "(210.20613849806935, '\\t', 2.9271116707885136)\n",
      "(192.51835970331567, '\\t', 3.461687009866722)\n",
      "(710.1051297874493, '\\t', 2.608469686460113)\n",
      "(310.6900438673856, '\\t', 2.8751385894007715)\n",
      "(841.8840372798345, '\\t', 2.663253841741034)\n",
      "(821.6301691939102, '\\t', 3.600178215715555)\n",
      "(353.8658693290816, '\\t', 2.6435412280188317)\n",
      "(572.3308730842007, '\\t', 2.89926916352507)\n",
      "(745.0671539810996, '\\t', 3.063503270692002)\n",
      "(918.3808915044165, '\\t', 3.097654751312486)\n",
      "(513.9354407602231, '\\t', 3.5272931607363387)\n",
      "(872.403271208111, '\\t', 2.7963102740811214)\n",
      "(946.0189172354638, '\\t', 3.4755391139903447)\n",
      "(248.75302689483146, '\\t', 2.5651518424812987)\n",
      "(847.8149012085045, '\\t', 3.79565969429592)\n",
      "(717.5103328197179, '\\t', 2.542640960234369)\n",
      "(879.6727106775595, '\\t', 2.6352956962493685)\n",
      "(838.4853790641137, '\\t', 2.616327989950467)\n",
      "(179.396758510059, '\\t', 2.844560482278588)\n",
      "(116.89083363722786, '\\t', 2.5537347046663563)\n",
      "(425.5369913674529, '\\t', 2.748436645635576)\n",
      "(825.9229400606567, '\\t', 2.910353052104094)\n",
      "(352.5966501063037, '\\t', 2.7334955434625217)\n",
      "(698.9794485192883, '\\t', 2.7017793391721683)\n",
      "(691.3179968782468, '\\t', 2.789239319502974)\n",
      "(416.4242885103011, '\\t', 2.723603525052924)\n",
      "(327.6141629742755, '\\t', 3.0817924941515598)\n",
      "(799.7070407296268, '\\t', 3.247808593853378)\n",
      "(278.78604596922884, '\\t', 3.0381981784302123)\n",
      "(644.9491929190175, '\\t', 2.9518027568858645)\n",
      "(17.431871171674217, '\\t', 2.8189007565028774)\n",
      "(93.77607103571228, '\\t', 3.1958126272674257)\n",
      "(189.593734369252, '\\t', 3.988062942933278)\n",
      "(135.58693527925726, '\\t', 2.7423233069843205)\n",
      "(269.79843820574115, '\\t', 2.5780091458064587)\n",
      "(142.9036621401952, '\\t', 3.514738657830745)\n",
      "(776.9699911154607, '\\t', 3.165882127859006)\n",
      "(117.86921097899062, '\\t', 2.5007209467703984)\n",
      "(376.84117261470584, '\\t', 3.7668605732437643)\n",
      "(396.862750079701, '\\t', 2.571027529210669)\n",
      "(395.4528493480319, '\\t', 2.9345312224337503)\n",
      "(283.3608444749096, '\\t', 2.5658539290614915)\n",
      "(745.4314104051555, '\\t', 2.7013239389528345)\n",
      "(948.2189644228835, '\\t', 2.5027278184632413)\n",
      "(901.1845398357434, '\\t', 4.7636304559675136)\n",
      "(965.6333816515098, '\\t', 3.5768299536914)\n",
      "(962.9947544301054, '\\t', 3.4117653227672315)\n",
      "(381.24695075254226, '\\t', 2.841911190526018)\n",
      "(324.9152322201085, '\\t', 3.82859915447499)\n",
      "(123.82863051421847, '\\t', 3.548703423769046)\n",
      "(936.8168008788825, '\\t', 2.6927411813086666)\n",
      "(932.5708913364876, '\\t', 2.503659670073521)\n",
      "(700.267474054858, '\\t', 2.7111150006205698)\n",
      "(815.8592510877412, '\\t', 2.9263605121860596)\n",
      "(207.3443047198769, '\\t', 4.126635488317158)\n",
      "(847.4078774786059, '\\t', 2.8891360778021804)\n",
      "(853.938342868898, '\\t', 2.5428858278984956)\n",
      "(559.61960772489, '\\t', 3.114704450458744)\n",
      "(602.129290078653, '\\t', 2.5627078232526728)\n",
      "(40.17428461184503, '\\t', 2.747729849398807)\n",
      "(377.5535695928322, '\\t', 3.585224321467585)\n",
      "(379.6753511233299, '\\t', 2.8243091608439084)\n",
      "(529.896728380409, '\\t', 2.7800949539447215)\n",
      "(68.55330947295798, '\\t', 3.2433057171257644)\n",
      "(929.4034715715093, '\\t', 2.7481148533900943)\n",
      "(604.9111615632019, '\\t', 2.508279253497382)\n",
      "(111.81071357849112, '\\t', 2.532392799205397)\n",
      "(111.77990417743412, '\\t', 2.8607424311424605)\n",
      "(192.52876605344667, '\\t', 2.59928362078205)\n",
      "(192.95480931966944, '\\t', 2.506217021071589)\n",
      "(192.56242094862213, '\\t', 2.6288390839322924)\n",
      "(710.1775508002723, '\\t', 2.7208618914895153)\n",
      "(841.9209102789412, '\\t', 2.6794702278918243)\n",
      "(824.638715142359, '\\t', 2.680282718021828)\n",
      "(572.565761679971, '\\t', 2.707308842787078)\n",
      "(918.3995955184616, '\\t', 2.9671593204197517)\n",
      "(528.6989117699827, '\\t', 2.841687976124387)\n",
      "(872.5106457018251, '\\t', 3.6877153409883805)\n",
      "(946.2721282549629, '\\t', 2.991909596054229)\n",
      "(826.6085195400929, '\\t', 3.3087589026183437)\n",
      "(327.62417653110657, '\\t', 2.8457138782370412)\n",
      "(557.7594445025144, '\\t', 3.637904716340761)\n",
      "(799.7692786976014, '\\t', 4.354641128575244)\n",
      "(93.90568673863233, '\\t', 3.34938688580424)\n",
      "(143.21799445113922, '\\t', 4.171840931509584)\n",
      "(726.0210818893684, '\\t', 3.370108309213418)\n",
      "(377.42541136793693, '\\t', 2.5809327479476183)\n",
      "(477.5174513443166, '\\t', 4.548231105234041)\n",
      "(395.65376176448484, '\\t', 2.5779099808212798)\n",
      "(395.6203984700806, '\\t', 2.683979161015785)\n",
      "(972.143655872111, '\\t', 2.573055449426353)\n",
      "(967.0704801666002, '\\t', 2.7678082279022114)\n",
      "(965.2070848418053, '\\t', 2.861782102172676)\n",
      "(325.3593747675265, '\\t', 2.856537900586453)\n",
      "(936.8364406175617, '\\t', 2.6511972699113135)\n",
      "(932.5770974181387, '\\t', 2.537847254731019)\n",
      "(856.2809452478633, '\\t', 2.713854778234512)\n",
      "(559.7005927672084, '\\t', 2.8007792442854957)\n",
      "(616.2901575393399, '\\t', 2.897696247704425)\n",
      "(388.95006959111896, '\\t', 2.9897987200122844)\n",
      "(380.9008053580992, '\\t', 2.652658804860906)\n",
      "(530.4345738073899, '\\t', 2.533476522763178)\n",
      "(529.9176185782665, '\\t', 4.612240015573977)\n",
      "(605.2096804161762, '\\t', 2.7821693682746735)\n",
      "(111.8297765951422, '\\t', 5.42537099260365)\n",
      "(136.9466773003889, '\\t', 3.1733709633518923)\n",
      "(193.1269466652407, '\\t', 2.509952990872116)\n",
      "(195.00851112220053, '\\t', 2.8215966546690066)\n",
      "(714.3887128046556, '\\t', 2.752274763203761)\n",
      "(539.1908313253771, '\\t', 3.188172292894293)\n",
      "(872.5805444592498, '\\t', 2.5526612925856296)\n",
      "(971.249451669999, '\\t', 2.6513150969275383)\n",
      "(516.2169879051746, '\\t', 2.8884074524565704)\n",
      "(330.24538217030084, '\\t', 2.6178500374754985)\n",
      "(329.14440674672903, '\\t', 2.910430466378173)\n",
      "(665.3360240041633, '\\t', 2.598497565490634)\n",
      "(825.1070789865181, '\\t', 2.5875963995615816)\n",
      "(800.0467318503627, '\\t', 3.2622224148037215)\n",
      "(799.831985544887, '\\t', 2.8318850112676417)\n",
      "(96.70203444584973, '\\t', 2.694351500348547)\n",
      "(166.86593931852892, '\\t', 2.7318953396434353)\n",
      "(143.43175790037927, '\\t', 2.525333021864413)\n",
      "(143.23618635752987, '\\t', 2.943151297739706)\n",
      "(726.0221687536246, '\\t', 2.822142655218753)\n",
      "(493.85218428880285, '\\t', 2.84980195501199)\n",
      "(477.89406994154575, '\\t', 2.7660326530859995)\n",
      "(696.9037825813098, '\\t', 2.8312685149198584)\n",
      "(564.7299216657852, '\\t', 2.6760952445393476)\n",
      "(483.60824203696075, '\\t', 3.004870392608246)\n",
      "(478.22551133197027, '\\t', 3.376065388654856)\n",
      "(326.2500739034265, '\\t', 2.5345260784158987)\n",
      "(625.0790268838285, '\\t', 2.6018800613170265)\n",
      "(389.4760477444414, '\\t', 3.608907601806637)\n",
      "(388.9721263052977, '\\t', 2.7415788725363424)\n",
      "(531.6283055808929, '\\t', 2.6392440518384515)\n",
      "(543.7071806903517, '\\t', 2.6855285352557368)\n",
      "(529.9328634605148, '\\t', 3.1013863587861215)\n",
      "(529.9626189346794, '\\t', 2.6157320024815705)\n",
      "(530.5347982437085, '\\t', 3.1686531539804155)\n",
      "(111.87999305014262, '\\t', 2.58319179574877)\n",
      "(114.06347065766998, '\\t', 3.8861018738226916)\n",
      "(111.83063983120807, '\\t', 2.6946252270955164)\n",
      "(127.05953144663235, '\\t', 2.9471623895040313)\n",
      "(113.07418076733488, '\\t', 2.617372327255797)\n",
      "(113.35479842831603, '\\t', 2.6402586955560943)\n",
      "(112.87521385109311, '\\t', 2.7643878517615716)\n",
      "(111.85252156016155, '\\t', 2.5592732171260493)\n",
      "(116.3225153398162, '\\t', 2.7351370577368512)\n",
      "(139.39729391240235, '\\t', 2.563928509464194)\n",
      "(111.84409976927164, '\\t', 2.786210020069728)\n",
      "(116.74165170054306, '\\t', 2.6765458911618074)\n",
      "(205.64155919914484, '\\t', 3.3394433850572933)\n",
      "(136.94908334796298, '\\t', 2.8462768285084743)\n",
      "(200.03764129624224, '\\t', 2.7792784814551976)\n",
      "(329.61821659100275, '\\t', 3.638227106479334)\n",
      "(800.1401055410729, '\\t', 3.298457952860551)\n",
      "(800.0518956314355, '\\t', 2.6026212685957053)\n",
      "(96.71596249969608, '\\t', 3.92545664436914)\n",
      "(143.57875872911654, '\\t', 3.003615601794216)\n",
      "(143.50027353517078, '\\t', 2.5136240548786626)\n",
      "(143.24075008523596, '\\t', 2.6611343620202876)\n",
      "(494.89532184573085, '\\t', 3.0558749466444906)\n",
      "(701.8889644199911, '\\t', 2.7079025832465486)\n",
      "(489.34141592902165, '\\t', 2.6998547591421547)\n",
      "(479.9061658285069, '\\t', 3.3597397498893105)\n",
      "(934.2388282702684, '\\t', 3.217144178754858)\n",
      "(389.4989008706847, '\\t', 3.39448210915688)\n",
      "(531.9405789717656, '\\t', 3.0692043803749542)\n",
      "(543.7101524227953, '\\t', 2.8468533371993576)\n",
      "(558.2938854329288, '\\t', 2.5470177801953464)\n",
      "(530.1156909405645, '\\t', 2.749610410278407)\n",
      "(529.9721979923933, '\\t', 2.672081320129188)\n",
      "(112.16348293065073, '\\t', 3.562996425400868)\n",
      "(114.07827845696723, '\\t', 2.928753621581319)\n",
      "(113.71041887543063, '\\t', 3.049802580591151)\n",
      "(112.58136834547584, '\\t', 3.114226052420033)\n",
      "(111.94860340847848, '\\t', 3.1618690467379933)\n",
      "(163.89051471336, '\\t', 2.5759207218035756)\n",
      "(120.21566336504222, '\\t', 2.9385036721458726)\n",
      "(140.70540499072732, '\\t', 2.7994428933158697)\n",
      "(821.0773998090158, '\\t', 2.6191030301479032)\n",
      "(223.11791932167466, '\\t', 2.603118116938621)\n",
      "(96.77618094528016, '\\t', 2.726126284214064)\n",
      "(96.75958652176178, '\\t', 3.1799083194333515)\n",
      "(145.57753647211368, '\\t', 2.5106746880618416)\n",
      "(143.65682180574595, '\\t', 4.094204360360029)\n",
      "(161.75513523019652, '\\t', 2.52056828227308)\n",
      "(162.00688334221095, '\\t', 2.937761302947889)\n",
      "(144.80903252590755, '\\t', 2.6434245270710757)\n",
      "(549.1895204918573, '\\t', 2.608786004684301)\n",
      "(938.9358049277259, '\\t', 2.8308708298138527)\n",
      "(934.257644830072, '\\t', 2.8651148886181512)\n",
      "(392.23634840202027, '\\t', 3.0874407530934564)\n",
      "(532.0490407073257, '\\t', 3.5721863911804688)\n",
      "(535.9862741508028, '\\t', 2.992537912774389)\n",
      "(543.7638822072712, '\\t', 2.897118745388878)\n",
      "(558.3357676755323, '\\t', 2.5752295417854993)\n",
      "(569.6870957388568, '\\t', 2.7571565332521812)\n",
      "(653.7703394686747, '\\t', 2.9751166148836066)\n",
      "(114.28823002181237, '\\t', 2.8480269134208864)\n",
      "(114.54290904790598, '\\t', 2.5587548920921)\n",
      "(112.84807922061452, '\\t', 2.9192871361992374)\n",
      "(187.5317252242151, '\\t', 2.734425077755835)\n",
      "(140.87577250195733, '\\t', 2.8581181175989303)\n",
      "(96.79365796400333, '\\t', 2.5012176485279802)\n",
      "(97.93070321874563, '\\t', 3.829710439937402)\n",
      "(155.2504640754303, '\\t', 2.5055445286469467)\n",
      "(144.92153909643022, '\\t', 2.8923575148480096)\n",
      "(143.81986241571155, '\\t', 3.345703783280216)\n",
      "(147.1597487933591, '\\t', 3.7052907283424017)\n",
      "(143.70136600253602, '\\t', 3.6778139731368875)\n",
      "(265.646955909564, '\\t', 2.5967100386052664)\n",
      "(144.8482458164146, '\\t', 2.7183667728408443)\n",
      "(152.65964025848754, '\\t', 2.6835764682485936)\n",
      "(939.9092499407049, '\\t', 2.818281235844405)\n",
      "(392.24856437772974, '\\t', 2.7235272947558733)\n",
      "(558.3776963408702, '\\t', 2.8228875786788374)\n",
      "(528.8795145565555, '\\t', 2.776916029977083)\n",
      "(96.79664915842247, '\\t', 3.274254642939253)\n",
      "(149.762249655914, '\\t', 4.770989847369028)\n",
      "(144.02497367540107, '\\t', 3.2448840372948653)\n",
      "(295.782299958034, '\\t', 2.5126871520335596)\n",
      "(151.80168256996026, '\\t', 2.649720862918294)\n",
      "(153.00278287059837, '\\t', 2.8831126512089265)\n",
      "(762.9974542362052, '\\t', 3.12709399196668)\n",
      "(528.9215148871186, '\\t', 2.628750088980926)\n",
      "(156.0189469290511, '\\t', 2.8776996801243877)\n",
      "(150.872837475345, '\\t', 2.8243756235816804)\n",
      "(349.34592982136627, '\\t', 3.1187827403838084)\n",
      "(148.21217133571966, '\\t', 2.6292984680875757)\n",
      "(144.88321573014915, '\\t', 2.5422413337244265)\n",
      "(147.25786882172267, '\\t', 2.543900774842)\n",
      "(157.54366052074636, '\\t', 2.733301857351067)\n",
      "(173.19747092698617, '\\t', 2.6230350354988508)\n",
      "(362.0030078181127, '\\t', 3.3049791357754748)\n",
      "(147.68557195745825, '\\t', 2.828584180720531)\n"
     ]
    }
   ],
   "source": [
    "import sys\n",
    "import random\n",
    "from math import exp, log\n",
    "\n",
    "import numpy as np\n",
    "\n",
    "\n",
    "def gen_etas_seq(t_end, mu, k, c, alpha, p, mr, tau, mag_fn):\n",
    "    \"\"\"ETAS event sequence\"\"\"\n",
    "    assert t_end > 0\n",
    "    assert mu > 0\n",
    "    assert k >= 0\n",
    "    assert c > 0\n",
    "    assert tau > 0\n",
    "    mu_tau = mu/tau\n",
    "    k_tau = k/_omori_integrate(tau, c, p)\n",
    "    parent = 0\n",
    "    current = parent\n",
    "    queue = []\n",
    "    for _ in range(_n_events(mu_tau*t_end)):\n",
    "        t = t_end*random.random()\n",
    "        m = mag_fn()\n",
    "        current += 1\n",
    "        pair = (t, m, current, parent)\n",
    "        yield pair\n",
    "        queue.append(pair)\n",
    "    for t_parent, m_parent, parent, _ in queue:\n",
    "        tail_size = _omori_integrate(t_end - t_parent, c, p)\n",
    "        coeff = k_tau*exp(alpha*(m_parent - mr))\n",
    "        n_expect = coeff*tail_size\n",
    "        for _ in range(_n_events(n_expect)):\n",
    "            integ = tail_size*(1 - random.random()) # should not be 0\n",
    "            t = _omori_time(integ, c, p) + t_parent\n",
    "            assert t <= t_end\n",
    "            m = mag_fn(m_parent)\n",
    "            current += 1\n",
    "            pair = (t, m, current, parent)\n",
    "            yield pair\n",
    "            queue.append(pair)\n",
    "\n",
    "\n",
    "_log10 = log(10)\n",
    "\n",
    "def random_gr(b, m_min, m_max=sys.float_info.max):\n",
    "    \"\"\"return: [m_min, m_max)\n",
    "    \"\"\"\n",
    "    assert m_min < m_max\n",
    "    b_log10 = b*_log10\n",
    "    return -1/b_log10*log(exp(-b_log10*m_min) -\n",
    "                          (1 - random.random())*\n",
    "                          (exp(-b_log10*m_min) -\n",
    "                           exp(-b_log10*m_max)))\n",
    "\n",
    "def _n_events(n):\n",
    "    return np.random.poisson(n)\n",
    "\n",
    "\n",
    "def _omori_time(integ, c, p):\n",
    "    \"\"\"_omori_integrate(ret, c, p) == integ\n",
    "    \"\"\"\n",
    "    if p == 1:\n",
    "        return c*(exp(integ) - 1)\n",
    "    else:\n",
    "        return (integ*(1 - p) + c**(1 - p))**(1/(1 - p)) - c\n",
    "\n",
    "\n",
    "def _omori_integrate(t, c, p):\n",
    "    \"\"\"$\\int_{0}^{t} 1/(t + c)^{p}$\n",
    "    \"\"\"\n",
    "    if p == 1:\n",
    "        return log((t + c)/c)\n",
    "    else:\n",
    "        return ((t + c)**(1 - p) - c**(1 - p))/(1 - p)\n",
    "\n",
    "\n",
    "def main(args):\n",
    "    T = []\n",
    "    t_end = 1000\n",
    "    mu = 0.1\n",
    "    k = 10\n",
    "    c = 0.01\n",
    "    alpha = 1.1\n",
    "    p = 1.1\n",
    "    mr = 6\n",
    "    tau = 1\n",
    "    mag_fn = lambda m=None: random_gr(1, 2.5, 7)\n",
    "    for t, m, _, _ in gen_etas_seq(t_end, mu, k, c, alpha, p, mr, tau, mag_fn):\n",
    "        print(t, '\\t', m)\n",
    "        T.append(m)\n",
    "        \n",
    "    return T\n",
    "\n",
    "\n",
    "if __name__ == '__main__':\n",
    "    main(sys.argv)"
   ]
  },
  {
   "cell_type": "code",
   "execution_count": 336,
   "metadata": {
    "collapsed": false
   },
   "outputs": [
    {
     "name": "stdout",
     "output_type": "stream",
     "text": [
      "(966.9588068894083, '\\t', 2.943225470138328)\n",
      "(474.1712646262597, '\\t', 2.7790846017160855)\n",
      "(604.7613878894272, '\\t', 3.4550835910160385)\n",
      "(950.7045295820096, '\\t', 3.364988528012526)\n",
      "(9.176065920851627, '\\t', 2.544827389191631)\n",
      "(935.0676264214625, '\\t', 2.6740829128126165)\n",
      "(457.1844138626191, '\\t', 4.346327789855498)\n",
      "(273.4945763256624, '\\t', 2.674959236174222)\n",
      "(333.1892477669089, '\\t', 2.880546028035959)\n",
      "(33.74816921673074, '\\t', 2.900028362610607)\n",
      "(577.072016897444, '\\t', 2.7639652448061827)\n",
      "(862.9403232018262, '\\t', 2.6564174161023066)\n",
      "(430.2182146195055, '\\t', 3.0176759995155917)\n",
      "(389.8817984713651, '\\t', 2.562757359960825)\n",
      "(788.2560695416839, '\\t', 2.651785947900474)\n",
      "(607.9029169381978, '\\t', 2.7582152511115825)\n",
      "(458.44744156837004, '\\t', 2.6580591202566137)\n",
      "(281.4310916979257, '\\t', 2.7976640695541923)\n",
      "(684.4030856522846, '\\t', 3.0600471315213738)\n",
      "(970.8200473051529, '\\t', 2.6593901116081735)\n",
      "(905.5718760920475, '\\t', 2.7830032277722663)\n",
      "(751.3951826730707, '\\t', 2.963591812438452)\n",
      "(165.2866790254146, '\\t', 2.6983422513512303)\n",
      "(903.4616633439636, '\\t', 2.521673616879622)\n",
      "(203.5516654523999, '\\t', 3.509574452135513)\n",
      "(566.5905368731305, '\\t', 3.2697571598835466)\n",
      "(801.431353936314, '\\t', 3.0790080555440333)\n",
      "(886.9141312311069, '\\t', 3.768061848961512)\n",
      "(456.80165663268826, '\\t', 3.708252078948325)\n",
      "(398.4290304246175, '\\t', 3.0303139191664323)\n",
      "(408.4102506906676, '\\t', 3.01380856317549)\n",
      "(454.82807739025577, '\\t', 2.7287819626546566)\n",
      "(286.58770126648415, '\\t', 4.795177259510967)\n",
      "(831.0311544783862, '\\t', 2.5420505596449705)\n",
      "(330.09089113793823, '\\t', 2.510601693850205)\n",
      "(112.43841457751901, '\\t', 3.0039086388296146)\n",
      "(203.64011336974175, '\\t', 3.7433458926376995)\n",
      "(781.0321195351864, '\\t', 4.316716307665683)\n",
      "(508.35171851556095, '\\t', 2.644005313656503)\n",
      "(799.3769111531938, '\\t', 3.145131408260108)\n",
      "(879.883392999446, '\\t', 2.5598147596427823)\n",
      "(24.32042517084787, '\\t', 2.9339062924462085)\n",
      "(588.4196170022412, '\\t', 3.458024116240588)\n",
      "(946.2052828129291, '\\t', 2.827273665726768)\n",
      "(857.6542554827793, '\\t', 2.639198273313196)\n",
      "(28.533070599253584, '\\t', 2.7836881475101047)\n",
      "(866.0649011597076, '\\t', 2.7219716462306653)\n",
      "(53.53403274086255, '\\t', 2.779768419403095)\n",
      "(259.50452345177797, '\\t', 2.9500466918173576)\n",
      "(995.7287530616757, '\\t', 2.987282743191404)\n",
      "(634.2761071262236, '\\t', 2.5506945873742093)\n",
      "(72.53693570738173, '\\t', 3.764378015953513)\n",
      "(31.02407412317776, '\\t', 3.0664955968333123)\n",
      "(105.76262560095573, '\\t', 3.060036623110441)\n",
      "(654.8274829632721, '\\t', 3.2534705997521263)\n",
      "(83.46429232259689, '\\t', 2.70826632937161)\n",
      "(43.71297469684088, '\\t', 2.8894206396696362)\n",
      "(577.2282637243912, '\\t', 2.606985681944745)\n",
      "(796.8791491048383, '\\t', 3.0911900879136875)\n",
      "(931.5989285873789, '\\t', 2.8752640660531665)\n",
      "(761.9800629902732, '\\t', 2.654302518252281)\n",
      "(468.8245165651138, '\\t', 2.7064214993143114)\n",
      "(107.12510388438633, '\\t', 3.062367463984218)\n",
      "(255.84295743399022, '\\t', 2.6738734746474466)\n",
      "(744.9623558487882, '\\t', 2.745259869763954)\n",
      "(182.7053828455637, '\\t', 2.707607328598388)\n",
      "(618.9546740266279, '\\t', 2.547602441788603)\n",
      "(795.0746721324101, '\\t', 2.6445694811200426)\n",
      "(289.33880371912977, '\\t', 4.386588102776394)\n",
      "(817.2307831443642, '\\t', 2.6826637339383175)\n",
      "(935.9702006305326, '\\t', 2.843389187138176)\n",
      "(331.2447683509221, '\\t', 2.815378980810165)\n",
      "(784.8485778002309, '\\t', 3.4199931651428908)\n",
      "(904.7158883706628, '\\t', 3.1527111981871627)\n",
      "(516.3893282783832, '\\t', 2.724573017890852)\n",
      "(179.84221057872873, '\\t', 2.671019329988622)\n",
      "(662.704183945614, '\\t', 2.60292866737193)\n",
      "(43.98801235356653, '\\t', 2.65438425256437)\n",
      "(941.4073221273876, '\\t', 2.727692693253617)\n",
      "(144.62595736925553, '\\t', 2.551047383889628)\n",
      "(202.65841263020934, '\\t', 3.42089152915529)\n",
      "(605.1371080762332, '\\t', 2.5654055348555387)\n",
      "(550.1589072843542, '\\t', 2.6930815246038096)\n",
      "(573.5400032286622, '\\t', 2.899614465041792)\n",
      "(869.6514684815783, '\\t', 2.83380148701067)\n",
      "(311.7450781716473, '\\t', 2.6138459132859304)\n",
      "(13.675946084557689, '\\t', 3.8132344983515476)\n",
      "(974.4796273963796, '\\t', 2.5226939852499797)\n",
      "(624.6450850968772, '\\t', 2.5311120596522967)\n",
      "(946.1441132941111, '\\t', 3.508855593073916)\n",
      "(759.9623229516894, '\\t', 2.7960757771972005)\n",
      "(916.4517722388101, '\\t', 2.9610280868725245)\n",
      "(523.6235386345265, '\\t', 2.862247077564282)\n",
      "(562.7668083044688, '\\t', 3.25490962235618)\n",
      "(749.1014999696007, '\\t', 5.495861438590602)\n",
      "(724.7825417096712, '\\t', 3.0285958276456446)\n",
      "(76.65769752078066, '\\t', 3.0136143623343705)\n",
      "(146.68836011991792, '\\t', 2.5567286638969846)\n",
      "(209.9120246404892, '\\t', 4.015096509364246)\n",
      "(201.400891185473, '\\t', 3.3881006433666276)\n",
      "(8.158773164046117, '\\t', 2.9496513697823405)\n",
      "(508.94597791743803, '\\t', 2.9524638259947906)\n",
      "(359.3861098297609, '\\t', 2.640686439344193)\n",
      "(302.8920812249316, '\\t', 2.95399874538097)\n",
      "(207.8917513488967, '\\t', 2.7338083324491)\n",
      "(104.24649427966503, '\\t', 2.5831270840793166)\n",
      "(580.9306410135148, '\\t', 3.1648061451767253)\n",
      "(380.79680876369923, '\\t', 2.527640935631909)\n",
      "(639.9455708827064, '\\t', 2.832156788187151)\n",
      "(181.13674145281976, '\\t', 2.6848387087552745)\n",
      "(474.33475001627704, '\\t', 3.1266489542395024)\n",
      "(604.8054582361498, '\\t', 2.8871773043378703)\n",
      "(604.8374555718202, '\\t', 2.6182715659136533)\n",
      "(950.7515655323134, '\\t', 2.658562529892087)\n",
      "(9.188170409698019, '\\t', 2.865541077187689)\n",
      "(935.1472860069766, '\\t', 2.5240771064440684)\n",
      "(935.0772448372466, '\\t', 2.5452577611180995)\n",
      "(457.22714601528395, '\\t', 2.5021356199534295)\n",
      "(457.20038550013834, '\\t', 2.5543556319762084)\n",
      "(457.6071096396904, '\\t', 3.3162934465164033)\n",
      "(273.8240670773562, '\\t', 2.5573081494108183)\n",
      "(862.9532908443049, '\\t', 3.299542384263122)\n",
      "(430.26083763124643, '\\t', 3.2548148123597467)\n",
      "(684.5079629275715, '\\t', 2.5760326144659067)\n",
      "(751.6547566112065, '\\t', 2.5502911251259373)\n",
      "(751.4419700985799, '\\t', 3.282438396344323)\n",
      "(205.28229299606394, '\\t', 2.713241598157923)\n",
      "(988.644871819665, '\\t', 2.7953233293774438)\n",
      "(467.96622859680383, '\\t', 2.9623634044788067)\n",
      "(398.4295302170863, '\\t', 2.57975316391402)\n",
      "(455.5518657032228, '\\t', 2.5448296294958874)\n",
      "(286.703646372445, '\\t', 2.8453323198045366)\n",
      "(295.93179019435377, '\\t', 2.8035572655303467)\n",
      "(734.9951243873215, '\\t', 2.804639530507096)\n",
      "(286.6588753745194, '\\t', 2.8795505900841)\n",
      "(286.8705087112271, '\\t', 2.9469498307805697)\n",
      "(330.1265913338416, '\\t', 3.0682838895419815)\n",
      "(112.43952791641959, '\\t', 2.550780296178694)\n",
      "(203.69482168974776, '\\t', 3.3510612726012816)\n",
      "(203.88965039964955, '\\t', 2.607373873091452)\n",
      "(212.18452723519238, '\\t', 2.7192077108293424)\n",
      "(205.4731651694194, '\\t', 2.7251178358219597)\n",
      "(785.8590616000848, '\\t', 2.7946510429304183)\n",
      "(781.033940518733, '\\t', 2.5062169999011257)\n",
      "(799.3775961904896, '\\t', 3.179728537486796)\n",
      "(880.5028846686159, '\\t', 2.5869571752040037)\n",
      "(588.4730407825233, '\\t', 3.3337175425556453)\n",
      "(589.5777938048612, '\\t', 2.590761284317818)\n",
      "(978.0373807809515, '\\t', 2.8948834497033356)\n",
      "(709.618106153054, '\\t', 2.9141514912803372)\n",
      "(634.8524919090714, '\\t', 2.8616903980644275)\n",
      "(654.8313999987087, '\\t', 2.7779107129299625)\n",
      "(83.47184835925317, '\\t', 2.6628236537814542)\n",
      "(43.81585301902661, '\\t', 3.0730555718421853)\n",
      "(578.8719674866937, '\\t', 4.252669416378974)\n",
      "(797.0612694817193, '\\t', 2.743936938633653)\n",
      "(761.9834678906851, '\\t', 2.9194115897977366)\n",
      "(762.7015609907336, '\\t', 4.039182555431358)\n",
      "(762.2632318984447, '\\t', 2.6211173887924923)\n",
      "(469.52281958338295, '\\t', 2.620090558327921)\n",
      "(745.0730228953469, '\\t', 2.699261448850797)\n",
      "(795.3289893194867, '\\t', 2.765440869988545)\n",
      "(289.3565253930235, '\\t', 2.6319897175733775)\n",
      "(331.3415102547776, '\\t', 3.8145052991781014)\n",
      "(784.854950010518, '\\t', 2.6132155334380176)\n",
      "(905.0832598516149, '\\t', 3.886809352228323)\n",
      "(179.89210408216405, '\\t', 3.2267138797759)\n",
      "(45.330233366599884, '\\t', 3.0442892997386903)\n",
      "(941.4155496308645, '\\t', 2.817863280445966)\n",
      "(145.05195158246744, '\\t', 2.5859152016762823)\n",
      "(13.693539066017411, '\\t', 2.925623709314795)\n",
      "(974.4841406601724, '\\t', 2.6071606044412516)\n",
      "(916.4945669556304, '\\t', 3.2719862008766114)\n",
      "(523.7581224804724, '\\t', 2.8619861330437977)\n",
      "(671.4183209609761, '\\t', 3.6647645023276447)\n",
      "(749.9758902460289, '\\t', 2.70995150139546)\n",
      "(749.1386110016458, '\\t', 2.6281079014748396)\n",
      "(757.9389186741025, '\\t', 3.2339544619508724)\n",
      "(767.2444246331248, '\\t', 3.5809925388405244)\n",
      "(807.3850645050348, '\\t', 2.610718655200354)\n",
      "(763.4230268995613, '\\t', 4.2392165444934795)\n",
      "(749.1956301424461, '\\t', 3.2011101371966224)\n",
      "(750.7281229196877, '\\t', 3.749530112712196)\n",
      "(749.7385528219546, '\\t', 2.981074458648112)\n",
      "(749.2548774235584, '\\t', 2.5167413831616843)\n",
      "(749.2821165601821, '\\t', 2.7580310882309247)\n",
      "(749.1778246442079, '\\t', 4.926450326219145)\n",
      "(759.5438953109176, '\\t', 2.701834837062343)\n",
      "(756.8893219603221, '\\t', 2.7461270679132914)\n",
      "(209.9212018718594, '\\t', 3.047883124430033)\n",
      "(220.56694179145424, '\\t', 3.0026574474407157)\n",
      "(213.78021192786056, '\\t', 2.9243687128881843)\n",
      "(201.81965282167627, '\\t', 2.9086632890865483)\n",
      "(224.83908742724944, '\\t', 2.818317455921099)\n",
      "(509.0026658576625, '\\t', 2.568758236118117)\n",
      "(359.4819213433621, '\\t', 3.0586385085479537)\n",
      "(107.36698134554406, '\\t', 2.7481167029889013)\n",
      "(580.9744607900241, '\\t', 3.081542129753264)\n",
      "(594.2037090863291, '\\t', 3.676748025736268)\n",
      "(582.1827642416304, '\\t', 3.182225786453186)\n",
      "(382.00596542428053, '\\t', 2.5207798768449634)\n",
      "(380.80159087946396, '\\t', 3.128956958741215)\n",
      "(475.0231296885287, '\\t', 4.179137438695514)\n",
      "(604.8086347225911, '\\t', 3.1193456761487446)\n",
      "(20.208275785870818, '\\t', 3.608085171113159)\n",
      "(457.22778702285444, '\\t', 2.984181666189436)\n",
      "(505.8123244873341, '\\t', 3.170386032004585)\n",
      "(457.61845381769723, '\\t', 2.881319045433265)\n",
      "(459.7289064993586, '\\t', 3.199987797245056)\n",
      "(863.0246348935761, '\\t', 2.8282432146433747)\n",
      "(866.3688009025509, '\\t', 2.912288966814702)\n",
      "(468.23134059335445, '\\t', 2.500839297929058)\n",
      "(398.43553953637814, '\\t', 2.8367012982266924)\n",
      "(299.50753541225697, '\\t', 2.687001260581868)\n",
      "(943.1917284486634, '\\t', 6.500121847503138)\n",
      "(385.4122075303853, '\\t', 2.782672993371215)\n",
      "(287.0778677294326, '\\t', 3.4751123625840776)\n",
      "(287.294335854815, '\\t', 2.6844018864155164)\n",
      "(813.5338776008136, '\\t', 2.8274289202973293)\n",
      "(203.69645395721642, '\\t', 3.313799727820868)\n",
      "(542.8045867418291, '\\t', 2.6762657518975)\n",
      "(277.9225471277622, '\\t', 3.119305398502583)\n",
      "(205.5087308454525, '\\t', 2.8298761948190414)\n",
      "(785.877049630219, '\\t', 2.857369110757916)\n",
      "(786.3958263207305, '\\t', 3.023807716732234)\n",
      "(898.2278540496715, '\\t', 2.553913094230136)\n",
      "(588.4848634107883, '\\t', 2.8020082058801647)\n",
      "(672.69128729041, '\\t', 3.4957144434284553)\n",
      "(44.00136441647051, '\\t', 2.6532465080185217)\n",
      "(43.816326076293215, '\\t', 3.2009299976433008)\n",
      "(43.999182257778976, '\\t', 2.591398986862494)\n",
      "(578.8737791027179, '\\t', 3.296019236112856)\n",
      "(820.4032903518471, '\\t', 3.8002275103986953)\n",
      "(764.9107059234416, '\\t', 2.534519426897039)\n",
      "(762.7031257817034, '\\t', 2.95657379826487)\n",
      "(779.1369441988744, '\\t', 2.7771231176337188)\n",
      "(786.6569730298417, '\\t', 3.369994933969339)\n",
      "(751.2721865103009, '\\t', 2.8750988191530644)\n",
      "(755.7818541819946, '\\t', 2.5005076429060114)\n",
      "(333.28256035087685, '\\t', 2.536057265260464)\n",
      "(331.469354105206, '\\t', 2.5277022929830144)\n",
      "(331.35392489316644, '\\t', 2.5647821887323277)\n",
      "(906.1496614648944, '\\t', 2.7535433342625097)\n",
      "(45.53629645545802, '\\t', 3.0920881323110962)\n",
      "(21.017977084221855, '\\t', 2.5266931954941776)\n",
      "(917.0712087341216, '\\t', 2.730929071896793)\n",
      "(526.5767508575526, '\\t', 3.2263064317459476)\n",
      "(538.6141302562348, '\\t', 2.901188811267657)\n",
      "(671.5011492274059, '\\t', 2.6584382572078566)\n",
      "(767.2562060068572, '\\t', 4.4416376672707365)\n",
      "(763.4328144901697, '\\t', 2.558271632956632)\n",
      "(763.4840287300482, '\\t', 2.675287138151016)\n",
      "(749.3368413572257, '\\t', 2.7754817395566063)\n",
      "(749.230720338592, '\\t', 2.874560121673122)\n",
      "(750.8620618300747, '\\t', 2.5762594653464634)\n",
      "(749.4562729172347, '\\t', 3.032465919232938)\n",
      "(755.4195807979219, '\\t', 2.7601318823262257)\n",
      "(749.1797552855107, '\\t', 3.0551097483674523)\n",
      "(893.008005900313, '\\t', 3.8453931651326956)\n",
      "(749.8756809283726, '\\t', 2.874932391430962)\n",
      "(237.95781785694146, '\\t', 2.849614775725673)\n",
      "(543.3909955828987, '\\t', 2.6048663407596906)\n",
      "(594.6638035376783, '\\t', 2.6160361737043885)\n",
      "(594.3421907805553, '\\t', 3.24842853813959)\n",
      "(602.521114788554, '\\t', 2.5366722865269353)\n",
      "(607.589758037659, '\\t', 2.7691406617941356)\n",
      "(604.8216856198519, '\\t', 2.541633147368978)\n",
      "(625.7763992340429, '\\t', 2.6473094021309356)\n",
      "(630.3497449426445, '\\t', 2.6928821584972544)\n",
      "(21.84996490331509, '\\t', 3.1732487713727955)\n",
      "(505.81975916372147, '\\t', 2.540350154074978)\n",
      "(864.8114460763077, '\\t', 2.98483160837418)\n",
      "(575.3411326734683, '\\t', 3.5561349802143054)\n",
      "(944.094338345421, '\\t', 2.7756113418977932)\n",
      "(944.7178687012198, '\\t', 2.8583321146752017)\n",
      "(947.8446382689782, '\\t', 3.0956435608483575)\n",
      "(946.9007423315967, '\\t', 3.2921043326123107)\n",
      "(949.7186769663348, '\\t', 3.1953547601113406)\n",
      "(945.3572212661503, '\\t', 2.5297380188656877)\n",
      "(943.4299065181525, '\\t', 2.67648752317501)\n",
      "(987.4889757287151, '\\t', 2.757878898835716)\n",
      "(947.340708687528, '\\t', 2.940949324547003)\n",
      "(943.2330884080071, '\\t', 2.9666784111168347)\n",
      "(953.9650854143902, '\\t', 2.536465565547085)\n",
      "(976.7220670534779, '\\t', 3.15417268374722)\n",
      "(949.2256680776974, '\\t', 2.617648382486039)\n",
      "(943.200963515375, '\\t', 4.431806399579324)\n",
      "(943.2055406637571, '\\t', 2.82025407553588)\n",
      "(944.3501876987647, '\\t', 3.3678780613952246)\n",
      "(943.3075956281026, '\\t', 2.71684143652936)\n",
      "(943.1931545068929, '\\t', 2.619087840934587)\n",
      "(943.504205050407, '\\t', 2.5592254751848613)\n",
      "(944.9701126510623, '\\t', 2.9218544751200737)\n",
      "(943.1936396328856, '\\t', 3.8195436203522544)\n",
      "(943.6854838217926, '\\t', 2.68664014570997)\n",
      "(980.8471967473114, '\\t', 2.9754808901003944)\n",
      "(943.4661542639844, '\\t', 2.5892308894134604)\n",
      "(953.2345365344494, '\\t', 2.6114158680823163)\n",
      "(287.1953643816363, '\\t', 3.105349576988288)\n",
      "(813.6499308125328, '\\t', 3.1405482733493333)\n",
      "(359.8114702312686, '\\t', 2.590575256027662)\n",
      "(563.1579367098831, '\\t', 2.5446124438295468)\n",
      "(542.8062001795385, '\\t', 2.5341919968094513)\n",
      "(210.86597546451435, '\\t', 2.6163864682841775)\n",
      "(786.4440201788258, '\\t', 2.6312240543131256)\n",
      "(786.4538062331775, '\\t', 2.9932803122215654)\n",
      "(43.824746422926545, '\\t', 2.8587647223766823)\n",
      "(46.35712578378483, '\\t', 2.6069008084764542)\n",
      "(44.06326728339098, '\\t', 3.2854966571633115)\n",
      "(580.4812814380306, '\\t', 2.964063672698425)\n",
      "(820.4187985382243, '\\t', 3.259297785650515)\n",
      "(753.0725518968297, '\\t', 2.818326170143397)\n",
      "(331.8794715241194, '\\t', 2.9024325051069293)\n",
      "(917.1500083409364, '\\t', 2.6812849832298533)\n",
      "(917.0965223494999, '\\t', 2.50607601942373)\n",
      "(526.5854959383819, '\\t', 2.527287981884328)\n",
      "(527.0980310722696, '\\t', 2.9855875190662804)\n",
      "(538.8926158531482, '\\t', 2.5341810780775362)\n",
      "(673.7915938094305, '\\t', 2.6327355658546185)\n",
      "(679.7436469036461, '\\t', 3.077974964001056)\n",
      "(764.9987918775497, '\\t', 2.6115852883294877)\n",
      "(767.6195982556986, '\\t', 2.972292645628108)\n",
      "(767.5485614837941, '\\t', 2.925387958642556)\n",
      "(767.3093834915446, '\\t', 2.5399702567126603)\n",
      "(763.6584625917591, '\\t', 3.21111644743081)\n",
      "(763.5976764360978, '\\t', 2.6996813037298844)\n",
      "(760.7367046386065, '\\t', 3.60998159151393)\n",
      "(749.3812746684403, '\\t', 2.679960953210361)\n",
      "(749.4734214041368, '\\t', 3.3761997634114445)\n",
      "(893.0154343656025, '\\t', 2.5107399928732335)\n",
      "(893.022031885294, '\\t', 2.5923780127844753)\n",
      "(893.0274221617134, '\\t', 2.617665881611203)\n",
      "(776.292680852581, '\\t', 2.7644908127384875)\n",
      "(238.03189023626723, '\\t', 3.43354537884888)\n",
      "(594.749598253659, '\\t', 3.4028740163539153)\n",
      "(594.3500965492861, '\\t', 2.9269125906754025)\n",
      "(619.4463536589881, '\\t', 3.48508803353149)\n",
      "(575.3499760661299, '\\t', 2.8010267141612153)\n",
      "(577.3381927475059, '\\t', 3.144631933599674)\n",
      "(944.7726443085763, '\\t', 2.5667756306159033)\n",
      "(947.9797454678786, '\\t', 2.7160344705085846)\n",
      "(947.7019071574191, '\\t', 2.5965834166649486)\n",
      "(950.6020580629092, '\\t', 3.4461113113975848)\n",
      "(988.9257056892283, '\\t', 2.5790265674550827)\n",
      "(943.2458130427212, '\\t', 3.0955733391212665)\n",
      "(945.7586955618021, '\\t', 2.5008731847634618)\n",
      "(954.0182638544845, '\\t', 2.577826229392995)\n",
      "(944.9560940813058, '\\t', 2.6715115407734245)\n",
      "(943.8093306061221, '\\t', 3.307905401198357)\n",
      "(944.5876151766314, '\\t', 3.0787387093359637)\n",
      "(945.8429449536766, '\\t', 2.645765135519347)\n",
      "(951.2510115008229, '\\t', 2.795269860926135)\n",
      "(944.9800091373831, '\\t', 2.9609871425158127)\n",
      "(943.8693176532621, '\\t', 2.5307939556670718)\n",
      "(953.3114926883679, '\\t', 2.692413997433964)\n",
      "(563.2304360029234, '\\t', 2.63269264464456)\n",
      "(791.0971734022647, '\\t', 2.727280848904476)\n",
      "(43.82869997170108, '\\t', 3.05806733208926)\n",
      "(44.07623189735411, '\\t', 2.652574042337105)\n",
      "(180.78422821535025, '\\t', 3.2000235279020757)\n",
      "(580.4992892745876, '\\t', 2.6044265057455)\n",
      "(822.4244848589431, '\\t', 2.931569753606458)\n",
      "(526.6396626661398, '\\t', 2.594419784785898)\n",
      "(765.0078443422099, '\\t', 2.8999377966418383)\n",
      "(767.6196061155782, '\\t', 3.211980944807272)\n",
      "(767.6657690940723, '\\t', 3.2441543798572985)\n",
      "(763.8951282447163, '\\t', 2.5393532063870325)\n",
      "(779.8153813086401, '\\t', 2.5512735928228194)\n",
      "(760.7691065102048, '\\t', 2.522628847965292)\n",
      "(760.7505403432582, '\\t', 2.699964358953151)\n",
      "(760.962100428202, '\\t', 2.6582320757932383)\n",
      "(893.0740365941863, '\\t', 2.6440051982078865)\n",
      "(238.1202473541001, '\\t', 2.5007378259259405)\n",
      "(238.1681460732061, '\\t', 2.5314003234398124)\n",
      "(595.710505980561, '\\t', 3.2776469229068046)\n",
      "(619.7920919765581, '\\t', 2.8485517489379593)\n",
      "(947.7157841450295, '\\t', 2.6369317552462457)\n",
      "(947.7286659674505, '\\t', 2.994297514035764)\n",
      "(950.606636267647, '\\t', 2.5659601601181357)\n",
      "(960.3701916093518, '\\t', 2.502951341794342)\n",
      "(988.9293291144884, '\\t', 3.9893628722150147)\n",
      "(990.6419047424536, '\\t', 3.0152651255091394)\n",
      "(945.7624232518289, '\\t', 2.787787819041274)\n",
      "(955.5087806624456, '\\t', 3.7381449283472694)\n",
      "(944.6446151074655, '\\t', 2.792923092447369)\n",
      "(944.6492824980332, '\\t', 3.000054989683172)\n",
      "(953.4763119572777, '\\t', 2.5998648596135894)\n",
      "(954.9629585061089, '\\t', 2.6585040204318457)\n",
      "(53.53374399215876, '\\t', 2.7896163303719392)\n",
      "(324.60538694904744, '\\t', 2.6137663899712265)\n",
      "(265.0256714215516, '\\t', 4.338147414608639)\n",
      "(581.068757331231, '\\t', 2.7126379560491327)\n",
      "(767.7662826486381, '\\t', 2.65517883782463)\n",
      "(769.8395372476085, '\\t', 2.7998031245069557)\n",
      "(767.7228414272622, '\\t', 2.6851707730032306)\n",
      "(874.9303852832041, '\\t', 2.8619942702152663)\n",
      "(717.0895234778209, '\\t', 3.011732885449496)\n",
      "(595.9797060032229, '\\t', 2.575926841227682)\n",
      "(595.7899467624493, '\\t', 2.8790563695439455)\n",
      "(947.8547991414514, '\\t', 2.5169154994904983)\n",
      "(957.3240548770237, '\\t', 4.081998357107269)\n",
      "(989.0534521791612, '\\t', 2.708686208556685)\n",
      "(989.19878172079, '\\t', 2.511184009859742)\n",
      "(990.7038447371865, '\\t', 2.681809804240071)\n",
      "(991.4308574410437, '\\t', 2.892215202287948)\n",
      "(955.5571861002759, '\\t', 2.6155546153675076)\n",
      "(955.9815576372691, '\\t', 2.5758054915721798)\n",
      "(956.4933762528792, '\\t', 3.2496883119308704)\n",
      "(947.724174913277, '\\t', 3.585172793645865)\n",
      "(953.5638190309395, '\\t', 2.5743643790951665)\n",
      "(321.50565531305034, '\\t', 2.5146092772618567)\n",
      "(398.50055780842195, '\\t', 3.467148299058532)\n",
      "(769.943026021952, '\\t', 2.6455901120156)\n",
      "(717.4151732817361, '\\t', 3.1187153884537606)\n",
      "(596.0323717897429, '\\t', 3.094308360040182)\n",
      "(595.9555386241931, '\\t', 2.535235224523984)\n",
      "(991.7011718506544, '\\t', 4.088703620832224)\n",
      "(955.5610318310285, '\\t', 3.467353165456157)\n",
      "(949.8841254083202, '\\t', 2.613255347819039)\n",
      "(400.27642434917817, '\\t', 3.435136960460542)\n",
      "(537.9729113299319, '\\t', 2.5140401714177325)\n",
      "(991.7068643126141, '\\t', 2.502176280812513)\n",
      "(400.28452719594276, '\\t', 2.5520486832973717)\n",
      "(401.4650056822965, '\\t', 2.5559114780425136)\n",
      "(400.3537680108226, '\\t', 2.510855820434151)\n",
      "(402.3063320943026, '\\t', 2.5988708104190748)\n",
      "(420.4606477973925, '\\t', 2.7749005548387555)\n",
      "(430.7406545678168, '\\t', 3.111250431132253)\n"
     ]
    }
   ],
   "source": [
    "r = main(sys.argv)"
   ]
  },
  {
   "cell_type": "code",
   "execution_count": 337,
   "metadata": {
    "collapsed": false
   },
   "outputs": [
    {
     "data": {
      "text/plain": [
       "[<matplotlib.lines.Line2D at 0x13795c850>]"
      ]
     },
     "execution_count": 337,
     "metadata": {},
     "output_type": "execute_result"
    },
    {
     "data": {
      "image/png": "[encoded data removed]",
      "text/plain": [
       "<matplotlib.figure.Figure at 0x1a4510050>"
      ]
     },
     "metadata": {},
     "output_type": "display_data"
    }
   ],
   "source": [
    "plt.plot(r)"
   ]
  },
  {
   "cell_type": "markdown",
   "metadata": {},
   "source": [
    "# TODO:\n",
    "    - Understand\n",
    "    - Modify code\n",
    "    - Upload github"
   ]
  },
  {
   "cell_type": "code",
   "execution_count": null,
   "metadata": {
    "collapsed": true
   },
   "outputs": [],
   "source": []
  }
 ],
 "metadata": {
  "kernelspec": {
   "display_name": "Python 2",
   "language": "python",
   "name": "python2"
  },
  "language_info": {
   "codemirror_mode": {
    "name": "ipython",
    "version": 2
   },
   "file_extension": ".py",
   "mimetype": "text/x-python",
   "name": "python",
   "nbconvert_exporter": "python",
   "pygments_lexer": "ipython2",
   "version": "2.7.11"
  }
 },
 "nbformat": 4,
 "nbformat_minor": 0
}
