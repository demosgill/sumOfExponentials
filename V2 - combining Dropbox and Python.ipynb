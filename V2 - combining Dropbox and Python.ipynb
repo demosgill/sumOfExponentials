{
 "cells": [
  {
   "cell_type": "code",
   "execution_count": 4,
   "metadata": {
    "collapsed": true
   },
   "outputs": [],
   "source": [
    "# Include the Dropbox SDK\n",
    "import dropbox\n",
    "\n",
    "# Get your app key and secret from the Dropbox developer website\n",
    "app_key = 'zzk0r5seil9r0yt'\n",
    "app_secret = '66nxnuvr8z9qudv'\n",
    "\n",
    "flow = dropbox.client.DropboxOAuth2FlowNoRedirect(app_key, app_secret)"
   ]
  },
  {
   "cell_type": "code",
   "execution_count": 5,
   "metadata": {
    "collapsed": true
   },
   "outputs": [],
   "source": [
    "authorize_url = flow.start()"
   ]
  },
  {
   "cell_type": "code",
   "execution_count": 15,
   "metadata": {
    "collapsed": false
   },
   "outputs": [
    {
     "data": {
      "text/plain": [
       "'https://www.dropbox.com/1/oauth2/authorize?response_type=code&client_id=zzk0r5seil9r0yt'"
      ]
     },
     "execution_count": 15,
     "metadata": {},
     "output_type": "execute_result"
    }
   ],
   "source": [
    "authorize_url"
   ]
  },
  {
   "cell_type": "code",
   "execution_count": 16,
   "metadata": {
    "collapsed": false
   },
   "outputs": [
    {
     "name": "stdout",
     "output_type": "stream",
     "text": [
      "Enter the authorization code here: QwYE0Wv1GLQAAAAAAAAQf5AYXsSHLRS18wedi1gyXJs\n"
     ]
    }
   ],
   "source": [
    "# Have the user sign in and authorize this token\n",
    "authorize_url = flow.start()\n",
    "\n",
    "# Ask for the code from the \"authorize_url\"\n",
    "code = raw_input(\"Enter the authorization code here: \").strip()"
   ]
  },
  {
   "cell_type": "code",
   "execution_count": 17,
   "metadata": {
    "collapsed": false
   },
   "outputs": [],
   "source": [
    "# This will fail if the user enters an invalid authorization code\n",
    "access_token, user_id = flow.finish(code)"
   ]
  },
  {
   "cell_type": "code",
   "execution_count": 20,
   "metadata": {
    "collapsed": false
   },
   "outputs": [
    {
     "name": "stderr",
     "output_type": "stream",
     "text": [
      "/Users/demos/anaconda/lib/python2.7/site-packages/ipykernel/__main__.py:1: DeprecationWarning: You are using a deprecated client. Please use the new v2 client located at dropbox.Dropbox.\n",
      "  if __name__ == '__main__':\n"
     ]
    },
    {
     "name": "stdout",
     "output_type": "stream",
     "text": [
      "linked account: {u'referral_link': u'https://db.tt/lfQucHNT', u'display_name': u'Guilherme Demos', u'uid': 175109321, u'locale': u'en', u'email_verified': True, u'email': u'gdemosg@gmail.com', u'is_paired': False, u'team': None, u'name_details': {u'familiar_name': u'Guilherme', u'surname': u'Demos', u'given_name': u'Guilherme'}, u'country': u'CH', u'quota_info': {u'datastores': 0, u'shared': 0, u'quota': 1104075030528, u'normal': 21528013850}}\n"
     ]
    }
   ],
   "source": [
    "client = dropbox.client.DropboxClient(access_token)\n",
    "print( 'linked account:', client.account_info())"
   ]
  },
  {
   "cell_type": "markdown",
   "metadata": {},
   "source": [
    "# Uploading files"
   ]
  },
  {
   "cell_type": "markdown",
   "metadata": {},
   "source": [
    "#### put_file takes a path pointing to where we want the file on our Dropbox, and then a file-like object or string to be uploaded there. For this example, let's upload a local copy of working-draft.txt:"
   ]
  },
  {
   "cell_type": "code",
   "execution_count": 26,
   "metadata": {
    "collapsed": false
   },
   "outputs": [
    {
     "name": "stdout",
     "output_type": "stream",
     "text": [
      "uploaded: {u'icon': u'page_white_text', u'bytes': 0, u'thumb_exists': False, u'rev': u'480410a9be3c', u'modified': u'Tue, 01 Nov 2016 22:18:32 +0000', u'shareable': False, u'client_mtime': u'Tue, 01 Nov 2016 22:18:32 +0000', u'path': u'/magnum-opus.txt', u'is_dir': False, u'size': u'0 bytes', u'root': u'dropbox', u'mime_type': u'text/plain', u'revision': 18436}\n"
     ]
    }
   ],
   "source": [
    "f = open('working-draft.txt', 'rb')\n",
    "response = client.put_file('/magnum-opus.txt', f)\n",
    "print ('uploaded:',response)"
   ]
  },
  {
   "cell_type": "code",
   "execution_count": 27,
   "metadata": {
    "collapsed": true
   },
   "outputs": [],
   "source": [
    "folder_metadata = client.metadata('/')"
   ]
  },
  {
   "cell_type": "code",
   "execution_count": 28,
   "metadata": {
    "collapsed": false
   },
   "outputs": [
    {
     "data": {
      "text/plain": [
       "{u'bytes': 0,\n",
       " u'contents': [{u'bytes': 0,\n",
       "   u'icon': u'folder',\n",
       "   u'is_dir': True,\n",
       "   u'modified': u'Mon, 31 Oct 2016 08:56:04 +0000',\n",
       "   u'modifier': None,\n",
       "   u'path': u'/Big Data',\n",
       "   u'read_only': False,\n",
       "   u'rev': u'9e410a9be3c',\n",
       "   u'revision': 2532,\n",
       "   u'root': u'dropbox',\n",
       "   u'size': u'0 bytes',\n",
       "   u'thumb_exists': False},\n",
       "  {u'bytes': 0,\n",
       "   u'icon': u'folder',\n",
       "   u'is_dir': True,\n",
       "   u'modified': u'Mon, 31 Oct 2016 17:36:15 +0000',\n",
       "   u'modifier': None,\n",
       "   u'path': u'/books',\n",
       "   u'read_only': False,\n",
       "   u'rev': u'19ad10a9be3c',\n",
       "   u'revision': 6573,\n",
       "   u'root': u'dropbox',\n",
       "   u'size': u'0 bytes',\n",
       "   u'thumb_exists': False},\n",
       "  {u'bytes': 0,\n",
       "   u'icon': u'folder_camera',\n",
       "   u'is_dir': True,\n",
       "   u'modified': u'Sun, 02 Mar 2014 16:35:22 +0000',\n",
       "   u'modifier': None,\n",
       "   u'path': u'/Camera Uploads',\n",
       "   u'read_only': False,\n",
       "   u'rev': u'a10a9be3c',\n",
       "   u'revision': 10,\n",
       "   u'root': u'dropbox',\n",
       "   u'size': u'0 bytes',\n",
       "   u'thumb_exists': False},\n",
       "  {u'bytes': 101,\n",
       "   u'client_mtime': u'Mon, 31 Oct 2016 08:45:53 +0000',\n",
       "   u'icon': u'page_white_linkfile',\n",
       "   u'is_dir': False,\n",
       "   u'mime_type': u'text/url',\n",
       "   u'modified': u'Mon, 31 Oct 2016 08:45:53 +0000',\n",
       "   u'modifier': None,\n",
       "   u'path': u'/cfl.dropboxstatic.com.url',\n",
       "   u'read_only': False,\n",
       "   u'rev': u'92d10a9be3c',\n",
       "   u'revision': 2349,\n",
       "   u'root': u'dropbox',\n",
       "   u'size': u'101 bytes',\n",
       "   u'thumb_exists': False},\n",
       "  {u'bytes': 0,\n",
       "   u'icon': u'folder',\n",
       "   u'is_dir': True,\n",
       "   u'modified': u'Mon, 31 Oct 2016 09:28:40 +0000',\n",
       "   u'modifier': None,\n",
       "   u'path': u'/Computer Software',\n",
       "   u'read_only': False,\n",
       "   u'rev': u'ba010a9be3c',\n",
       "   u'revision': 2976,\n",
       "   u'root': u'dropbox',\n",
       "   u'size': u'0 bytes',\n",
       "   u'thumb_exists': False},\n",
       "  {u'bytes': 0,\n",
       "   u'icon': u'folder',\n",
       "   u'is_dir': True,\n",
       "   u'modified': u'Mon, 31 Oct 2016 08:55:56 +0000',\n",
       "   u'modifier': None,\n",
       "   u'path': u'/DOCS',\n",
       "   u'read_only': False,\n",
       "   u'rev': u'9e310a9be3c',\n",
       "   u'revision': 2531,\n",
       "   u'root': u'dropbox',\n",
       "   u'size': u'0 bytes',\n",
       "   u'thumb_exists': False},\n",
       "  {u'bytes': 0,\n",
       "   u'icon': u'folder',\n",
       "   u'is_dir': True,\n",
       "   u'modified': u'Mon, 31 Oct 2016 09:00:31 +0000',\n",
       "   u'modifier': None,\n",
       "   u'path': u'/ETHZ',\n",
       "   u'read_only': False,\n",
       "   u'rev': u'a0110a9be3c',\n",
       "   u'revision': 2561,\n",
       "   u'root': u'dropbox',\n",
       "   u'size': u'0 bytes',\n",
       "   u'thumb_exists': False},\n",
       "  {u'bytes': 249159,\n",
       "   u'client_mtime': u'Tue, 21 May 2013 19:03:10 +0000',\n",
       "   u'icon': u'page_white_acrobat',\n",
       "   u'is_dir': False,\n",
       "   u'mime_type': u'application/pdf',\n",
       "   u'modified': u'Tue, 21 May 2013 19:03:10 +0000',\n",
       "   u'modifier': None,\n",
       "   u'path': u'/Getting Started.pdf',\n",
       "   u'read_only': False,\n",
       "   u'rev': u'610a9be3c',\n",
       "   u'revision': 6,\n",
       "   u'root': u'dropbox',\n",
       "   u'size': u'243.3 KB',\n",
       "   u'thumb_exists': False},\n",
       "  {u'bytes': 0,\n",
       "   u'icon': u'folder',\n",
       "   u'is_dir': True,\n",
       "   u'modified': u'Mon, 31 Oct 2016 09:13:49 +0000',\n",
       "   u'modifier': None,\n",
       "   u'path': u'/Github an Random Codes',\n",
       "   u'read_only': False,\n",
       "   u'rev': u'acd10a9be3c',\n",
       "   u'revision': 2765,\n",
       "   u'root': u'dropbox',\n",
       "   u'size': u'0 bytes',\n",
       "   u'thumb_exists': False},\n",
       "  {u'bytes': 0,\n",
       "   u'icon': u'folder',\n",
       "   u'is_dir': True,\n",
       "   u'modified': u'Mon, 31 Oct 2016 08:55:44 +0000',\n",
       "   u'modifier': None,\n",
       "   u'path': u'/Guidance',\n",
       "   u'read_only': False,\n",
       "   u'rev': u'9e110a9be3c',\n",
       "   u'revision': 2529,\n",
       "   u'root': u'dropbox',\n",
       "   u'size': u'0 bytes',\n",
       "   u'thumb_exists': False},\n",
       "  {u'bytes': 0,\n",
       "   u'icon': u'folder',\n",
       "   u'is_dir': True,\n",
       "   u'modified': u'Mon, 31 Oct 2016 08:51:28 +0000',\n",
       "   u'modifier': None,\n",
       "   u'path': u'/HERBSEMESTER_2016',\n",
       "   u'read_only': False,\n",
       "   u'rev': u'93110a9be3c',\n",
       "   u'revision': 2353,\n",
       "   u'root': u'dropbox',\n",
       "   u'size': u'0 bytes',\n",
       "   u'thumb_exists': False},\n",
       "  {u'bytes': 176218,\n",
       "   u'client_mtime': u'Mon, 31 Oct 2016 16:43:45 +0000',\n",
       "   u'icon': u'page_white_acrobat',\n",
       "   u'is_dir': False,\n",
       "   u'mime_type': u'application/pdf',\n",
       "   u'modified': u'Mon, 31 Oct 2016 16:45:13 +0000',\n",
       "   u'modifier': None,\n",
       "   u'path': u'/ItalianIdHousingPermitETHid.pdf',\n",
       "   u'read_only': False,\n",
       "   u'rev': u'158610a9be3c',\n",
       "   u'revision': 5510,\n",
       "   u'root': u'dropbox',\n",
       "   u'size': u'172.1 KB',\n",
       "   u'thumb_exists': False},\n",
       "  {u'bytes': 0,\n",
       "   u'client_mtime': u'Tue, 01 Nov 2016 22:18:32 +0000',\n",
       "   u'icon': u'page_white_text',\n",
       "   u'is_dir': False,\n",
       "   u'mime_type': u'text/plain',\n",
       "   u'modified': u'Tue, 01 Nov 2016 22:18:32 +0000',\n",
       "   u'modifier': None,\n",
       "   u'path': u'/magnum-opus.txt',\n",
       "   u'read_only': False,\n",
       "   u'rev': u'480410a9be3c',\n",
       "   u'revision': 18436,\n",
       "   u'root': u'dropbox',\n",
       "   u'size': u'0 bytes',\n",
       "   u'thumb_exists': False},\n",
       "  {u'bytes': 1317544,\n",
       "   u'client_mtime': u'Tue, 12 Apr 2016 14:08:41 +0000',\n",
       "   u'icon': u'page_white',\n",
       "   u'is_dir': False,\n",
       "   u'mime_type': u'application/octet-stream',\n",
       "   u'modified': u'Mon, 31 Oct 2016 08:53:49 +0000',\n",
       "   u'modifier': None,\n",
       "   u'path': u'/Produtction_papers',\n",
       "   u'read_only': False,\n",
       "   u'rev': u'9dc10a9be3c',\n",
       "   u'revision': 2524,\n",
       "   u'root': u'dropbox',\n",
       "   u'size': u'1.3 MB',\n",
       "   u'thumb_exists': False},\n",
       "  {u'bytes': 0,\n",
       "   u'icon': u'folder',\n",
       "   u'is_dir': True,\n",
       "   u'modified': u'Tue, 01 Nov 2016 15:36:33 +0000',\n",
       "   u'modifier': None,\n",
       "   u'path': u'/Screenshots',\n",
       "   u'read_only': False,\n",
       "   u'rev': u'393a10a9be3c',\n",
       "   u'revision': 14650,\n",
       "   u'root': u'dropbox',\n",
       "   u'size': u'0 bytes',\n",
       "   u'thumb_exists': False},\n",
       "  {u'bytes': 207412,\n",
       "   u'client_mtime': u'Mon, 31 Oct 2016 11:38:40 +0000',\n",
       "   u'icon': u'page_white',\n",
       "   u'is_dir': False,\n",
       "   u'mime_type': u'application/octet-stream',\n",
       "   u'modified': u'Mon, 31 Oct 2016 11:38:40 +0000',\n",
       "   u'modifier': None,\n",
       "   u'path': u'/test_ffn-checkpoint.ipynb',\n",
       "   u'read_only': False,\n",
       "   u'rev': u'dec10a9be3c',\n",
       "   u'revision': 3564,\n",
       "   u'root': u'dropbox',\n",
       "   u'size': u'202.6 KB',\n",
       "   u'thumb_exists': False},\n",
       "  {u'bytes': 28939480,\n",
       "   u'client_mtime': u'Mon, 31 Oct 2016 11:17:07 +0000',\n",
       "   u'icon': u'page_white',\n",
       "   u'is_dir': False,\n",
       "   u'mime_type': u'application/octet-stream',\n",
       "   u'modified': u'Mon, 31 Oct 2016 11:17:07 +0000',\n",
       "   u'modifier': None,\n",
       "   u'path': u'/US_sector_indices.h5',\n",
       "   u'read_only': False,\n",
       "   u'rev': u'd3e10a9be3c',\n",
       "   u'revision': 3390,\n",
       "   u'root': u'dropbox',\n",
       "   u'size': u'27.6 MB',\n",
       "   u'thumb_exists': False}],\n",
       " u'hash': u'29626bde09a62d7050d14179a40a1e5a',\n",
       " u'icon': u'folder',\n",
       " u'is_dir': True,\n",
       " u'path': u'/',\n",
       " u'root': u'dropbox',\n",
       " u'size': u'0 bytes',\n",
       " u'thumb_exists': False}"
      ]
     },
     "execution_count": 28,
     "metadata": {},
     "output_type": "execute_result"
    }
   ],
   "source": [
    "folder_metadata"
   ]
  },
  {
   "cell_type": "markdown",
   "metadata": {},
   "source": [
    "# Downloading files"
   ]
  },
  {
   "cell_type": "code",
   "execution_count": 30,
   "metadata": {
    "collapsed": false
   },
   "outputs": [
    {
     "name": "stdout",
     "output_type": "stream",
     "text": [
      "{u'read_only': False, u'revision': 18436, u'bytes': 0, u'thumb_exists': False, u'rev': u'480410a9be3c', u'modified': u'Tue, 01 Nov 2016 22:18:32 +0000', u'mime_type': u'text/plain', u'size': u'0 bytes', u'path': u'/magnum-opus.txt', u'is_dir': False, u'modifier': None, u'root': u'dropbox', u'client_mtime': u'Tue, 01 Nov 2016 22:18:32 +0000', u'icon': u'page_white_text'}\n"
     ]
    }
   ],
   "source": [
    "f, metadata = client.get_file_and_metadata('/magnum-opus.txt')\n",
    "out = open('magnum-opus.txt', 'wb')\n",
    "out.write(f.read())\n",
    "out.close()\n",
    "print(metadata)"
   ]
  },
  {
   "cell_type": "markdown",
   "metadata": {},
   "source": [
    "# Now go for the bigData"
   ]
  },
  {
   "cell_type": "markdown",
   "metadata": {},
   "source": [
    "# Simpler way?"
   ]
  },
  {
   "cell_type": "code",
   "execution_count": 10,
   "metadata": {
    "collapsed": false
   },
   "outputs": [
    {
     "name": "stdout",
     "output_type": "stream",
     "text": [
      "Creating a Dropbox object...\n",
      "Uploading my-file.txt to Dropbox as /my-file-backup.txt...\n",
      "Changing contents of my-file.txt on local machine...\n",
      "Uploading my-file.txt to Dropbox as /my-file-backup.txt...\n",
      "Finding available revisions on Dropbox...\n",
      "(u'480510a9be3c', datetime.datetime(2016, 11, 1, 22, 44, 22))\n",
      "(u'480610a9be3c', datetime.datetime(2016, 11, 1, 22, 44, 23))\n",
      "Restoring /my-file-backup.txt to revision 480510a9be3c on Dropbox...\n",
      "Downloading current /my-file-backup.txt from Dropbox, overwriting my-file.txt...\n",
      "Done!\n"
     ]
    }
   ],
   "source": [
    "import sys\n",
    "sys.path.append('/Users/demos/dropbox-sdk-python/example/back-up-and-restore/')\n",
    "\n",
    "!python /Users/demos/dropbox-sdk-python/example/back-up-and-restore/backup-and-restore-example.py"
   ]
  },
  {
   "cell_type": "code",
   "execution_count": null,
   "metadata": {
    "collapsed": true
   },
   "outputs": [],
   "source": []
  }
 ],
 "metadata": {
  "kernelspec": {
   "display_name": "Python 2",
   "language": "python",
   "name": "python2"
  },
  "language_info": {
   "codemirror_mode": {
    "name": "ipython",
    "version": 2
   },
   "file_extension": ".py",
   "mimetype": "text/x-python",
   "name": "python",
   "nbconvert_exporter": "python",
   "pygments_lexer": "ipython2",
   "version": "2.7.11"
  }
 },
 "nbformat": 4,
 "nbformat_minor": 0
}
